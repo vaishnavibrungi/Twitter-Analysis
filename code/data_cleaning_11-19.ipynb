{
 "cells": [
  {
   "cell_type": "markdown",
   "id": "29cdd067",
   "metadata": {},
   "source": [
    "# Capstone Project"
   ]
  },
  {
   "cell_type": "markdown",
   "id": "b5a07422",
   "metadata": {},
   "source": [
    "### Data Cleaning"
   ]
  },
  {
   "cell_type": "code",
   "execution_count": 1,
   "id": "4efe02a3",
   "metadata": {},
   "outputs": [],
   "source": [
    "#Import libraries\n",
    "import pandas as pd\n",
    "import numpy as np\n",
    "import re\n",
    "import matplotlib.pyplot as plt\n",
    "from nltk.stem.wordnet import WordNetLemmatizer\n",
    "from nltk.corpus import stopwords\n",
    "from sklearn.feature_extraction.text import CountVectorizer\n",
    "from transformers import pipeline"
   ]
  },
  {
   "cell_type": "markdown",
   "id": "4d5755cf",
   "metadata": {},
   "source": [
    "**Read in both #workfromhome and #remotework**"
   ]
  },
  {
   "cell_type": "code",
   "execution_count": 3,
   "id": "ff6ba2cc",
   "metadata": {},
   "outputs": [],
   "source": [
    "wfh_df1 = pd.read_csv(\"../dataset/wfh_mixed.csv\")\n",
    "rw_df1 = pd.read_csv(\"../dataset/remote_mixed.csv\")"
   ]
  },
  {
   "cell_type": "code",
   "execution_count": 4,
   "id": "fd734015",
   "metadata": {},
   "outputs": [],
   "source": [
    "#https://catriscode.com/2021/03/02/extracting-or-removing-mentions-and-hashtags-in-tweets-using-python/\n",
    "#https://www.debuggex.com/cheatsheet/regex/python\n",
    "#https://stackoverflow.com/questions/50830214/remove-usernames-from-twitter-data-using-python/50830588\n",
    "#https://stackoverflow.com/questions/14081050/remove-all-forms-of-urls-from-a-given-string-in-python\n",
    "def remove_splchar(tweet):\n",
    "    tweet = tweet.lower() # Lowercases the string\n",
    "    tweet = re.sub('@[^\\s]+', ' ', tweet) # remove usernames\n",
    "    tweet = re.sub('((www\\.[^\\s]+)|(https?://[^\\s]+))', ' ', tweet) #remove URLs\n",
    "    tweet=re.sub('[^a-zA-Z#]', ' ', tweet) # remove special characters, numbers, punctuations\n",
    "    tweet = re.sub(\"#[A-Za-z0-9_]+\",\" \", tweet) #remove hashtags\n",
    "    tweet = re.sub(r\"\\s+\", \" \", str(tweet)) # replace double spaces with single space\n",
    "    return tweet"
   ]
  },
  {
   "cell_type": "code",
   "execution_count": 5,
   "id": "2463792b",
   "metadata": {},
   "outputs": [],
   "source": [
    "#https://www.geeksforgeeks.org/python-spilt-a-sentence-into-list-of-words/\n",
    "#https://stackoverflow.com/questions/771918/how-do-i-do-word-stemming-or-lemmatization\n",
    "def lemmitize(tweet):\n",
    "    clean_column_list = []\n",
    "    wnl = WordNetLemmatizer()\n",
    "    words = tweet.split()\n",
    "    for word in words:\n",
    "        clean_column_list.append(wnl.lemmatize(word)) \n",
    "    return \" \".join(clean_column_list)"
   ]
  },
  {
   "cell_type": "code",
   "execution_count": 6,
   "id": "d7cd72ab",
   "metadata": {},
   "outputs": [
    {
     "name": "stderr",
     "output_type": "stream",
     "text": [
      "All model checkpoint layers were used when initializing TFDistilBertForSequenceClassification.\n",
      "\n",
      "All the layers of TFDistilBertForSequenceClassification were initialized from the model checkpoint at distilbert-base-uncased-finetuned-sst-2-english.\n",
      "If your task is similar to the task the model of the checkpoint was trained on, you can already use TFDistilBertForSequenceClassification for predictions without further training.\n"
     ]
    }
   ],
   "source": [
    "#Instantiate sentimnt analysis\n",
    "sent = pipeline('sentiment-analysis')"
   ]
  },
  {
   "cell_type": "code",
   "execution_count": 7,
   "id": "30b522fd",
   "metadata": {},
   "outputs": [],
   "source": [
    "#Get polarity score of each tweet\n",
    "def getPolarity(tweet):\n",
    "    polarity_dic = sent(tweet)\n",
    "    if polarity_dic[0]['label'] == 'POSITIVE':\n",
    "        return 1\n",
    "    else:\n",
    "        return 0"
   ]
  },
  {
   "cell_type": "markdown",
   "id": "d950b382",
   "metadata": {},
   "source": [
    "**#workfromhome  dataframe cleaning**"
   ]
  },
  {
   "cell_type": "code",
   "execution_count": 8,
   "id": "1a7f86d2",
   "metadata": {},
   "outputs": [],
   "source": [
    "#Drop Unnamed: 0 column\n",
    "wfh_df1.drop('Unnamed: 0', axis=1, inplace=True)"
   ]
  },
  {
   "cell_type": "code",
   "execution_count": 9,
   "id": "d4134641",
   "metadata": {
    "scrolled": true
   },
   "outputs": [
    {
     "data": {
      "text/html": [
       "<div>\n",
       "<style scoped>\n",
       "    .dataframe tbody tr th:only-of-type {\n",
       "        vertical-align: middle;\n",
       "    }\n",
       "\n",
       "    .dataframe tbody tr th {\n",
       "        vertical-align: top;\n",
       "    }\n",
       "\n",
       "    .dataframe thead th {\n",
       "        text-align: right;\n",
       "    }\n",
       "</style>\n",
       "<table border=\"1\" class=\"dataframe\">\n",
       "  <thead>\n",
       "    <tr style=\"text-align: right;\">\n",
       "      <th></th>\n",
       "      <th>tweets</th>\n",
       "      <th>user_location</th>\n",
       "      <th>tweet_posted_on</th>\n",
       "      <th>tweet_id</th>\n",
       "    </tr>\n",
       "  </thead>\n",
       "  <tbody>\n",
       "    <tr>\n",
       "      <th>0</th>\n",
       "      <td>Here are some best sites to find remote jobs. ...</td>\n",
       "      <td>United Kingdom</td>\n",
       "      <td>Mon Jul 19 17:08:13 +0000 2021</td>\n",
       "      <td>1417169417587265540</td>\n",
       "    </tr>\n",
       "    <tr>\n",
       "      <th>1</th>\n",
       "      <td>The Writing Mom’s Manifesto - via @pensignal #...</td>\n",
       "      <td>KY, USA</td>\n",
       "      <td>Mon Jul 19 17:06:21 +0000 2021</td>\n",
       "      <td>1417168947422576643</td>\n",
       "    </tr>\n",
       "    <tr>\n",
       "      <th>2</th>\n",
       "      <td>Excellent Work From Home Jobs, Where to Find T...</td>\n",
       "      <td>North America</td>\n",
       "      <td>Mon Jul 19 17:06:03 +0000 2021</td>\n",
       "      <td>1417168870348050436</td>\n",
       "    </tr>\n",
       "  </tbody>\n",
       "</table>\n",
       "</div>"
      ],
      "text/plain": [
       "                                              tweets   user_location  \\\n",
       "0  Here are some best sites to find remote jobs. ...  United Kingdom   \n",
       "1  The Writing Mom’s Manifesto - via @pensignal #...         KY, USA   \n",
       "2  Excellent Work From Home Jobs, Where to Find T...   North America   \n",
       "\n",
       "                  tweet_posted_on             tweet_id  \n",
       "0  Mon Jul 19 17:08:13 +0000 2021  1417169417587265540  \n",
       "1  Mon Jul 19 17:06:21 +0000 2021  1417168947422576643  \n",
       "2  Mon Jul 19 17:06:03 +0000 2021  1417168870348050436  "
      ]
     },
     "execution_count": 9,
     "metadata": {},
     "output_type": "execute_result"
    }
   ],
   "source": [
    "#Check to confirm if the column got deleted \n",
    "wfh_df1.head(3)"
   ]
  },
  {
   "cell_type": "code",
   "execution_count": 10,
   "id": "4c6db9e6",
   "metadata": {},
   "outputs": [
    {
     "data": {
      "text/plain": [
       "(7615, 4)"
      ]
     },
     "execution_count": 10,
     "metadata": {},
     "output_type": "execute_result"
    }
   ],
   "source": [
    "#Check the shape of the dataframe\n",
    "wfh_df1.shape"
   ]
  },
  {
   "cell_type": "code",
   "execution_count": 11,
   "id": "df8bbc7a",
   "metadata": {
    "scrolled": true
   },
   "outputs": [
    {
     "data": {
      "text/plain": [
       "tweets             0\n",
       "user_location      0\n",
       "tweet_posted_on    0\n",
       "tweet_id           0\n",
       "dtype: int64"
      ]
     },
     "execution_count": 11,
     "metadata": {},
     "output_type": "execute_result"
    }
   ],
   "source": [
    "#Check missing values\n",
    "wfh_df1.isnull().sum()"
   ]
  },
  {
   "cell_type": "code",
   "execution_count": 12,
   "id": "b2163edd",
   "metadata": {},
   "outputs": [
    {
     "data": {
      "text/plain": [
       "tweets             object\n",
       "user_location      object\n",
       "tweet_posted_on    object\n",
       "tweet_id            int64\n",
       "dtype: object"
      ]
     },
     "execution_count": 12,
     "metadata": {},
     "output_type": "execute_result"
    }
   ],
   "source": [
    "#Check datatypes\n",
    "wfh_df1.dtypes"
   ]
  },
  {
   "cell_type": "code",
   "execution_count": 13,
   "id": "b0fb6a90",
   "metadata": {},
   "outputs": [],
   "source": [
    "# Change column to be datetime dtype\n",
    "#https://stackoverflow.com/questions/50503033/remove-minutes-and-hours-from-series\n",
    "wfh_df1['tweet_posted_on'] = pd.to_datetime(wfh_df1['tweet_posted_on'])"
   ]
  },
  {
   "cell_type": "code",
   "execution_count": 14,
   "id": "74a9f588",
   "metadata": {
    "scrolled": true
   },
   "outputs": [
    {
     "data": {
      "text/plain": [
       "array(['United Kingdom', 'KY, USA', 'North America', ...,\n",
       "       'www.fernandocotta.es', 'St Augustine, FL', 'Nagpur:4400034'],\n",
       "      dtype=object)"
      ]
     },
     "execution_count": 14,
     "metadata": {},
     "output_type": "execute_result"
    }
   ],
   "source": [
    "wfh_df1['user_location'].unique()"
   ]
  },
  {
   "cell_type": "code",
   "execution_count": 15,
   "id": "f3f088c9",
   "metadata": {},
   "outputs": [],
   "source": [
    "#https://stackoverflow.com/questions/52673285/performance-of-pandas-apply-vs-np-vectorize-to-create-new-column-from-existing-c/52674448#52674448\n",
    "#Create a new column for processed tweets\n",
    "wfh_df1['cleaned_tweets'] = np.vectorize(remove_splchar)(wfh_df1['tweets'])"
   ]
  },
  {
   "cell_type": "code",
   "execution_count": 16,
   "id": "e19677b5",
   "metadata": {},
   "outputs": [],
   "source": [
    "#Get list of words which have more than 3 letters\n",
    "wfh_df1['cleaned_tweets'] = wfh_df1['cleaned_tweets'].apply(lambda x: ' '.join([w for w in x.split() if len(w)>3]))"
   ]
  },
  {
   "cell_type": "code",
   "execution_count": 17,
   "id": "e2f0fd45",
   "metadata": {},
   "outputs": [],
   "source": [
    "# Place new lists of lemmitized words into the 'cleaned_tweets' column in the dataframe\n",
    "wfh_df1['cleaned_tweets'] = wfh_df1['cleaned_tweets'].map(lemmitize)"
   ]
  },
  {
   "cell_type": "code",
   "execution_count": 18,
   "id": "7b32e1a8",
   "metadata": {},
   "outputs": [],
   "source": [
    "#Create a new column 'polarity' to save tweet polarity score\n",
    "wfh_df1['polarity'] = wfh_df1['cleaned_tweets'].map(getPolarity)"
   ]
  },
  {
   "cell_type": "code",
   "execution_count": 19,
   "id": "e4e1e188",
   "metadata": {},
   "outputs": [],
   "source": [
    "#Change column order\n",
    "wfh_df1 = wfh_df1[['tweet_id','tweet_posted_on','tweets','cleaned_tweets','user_location','polarity']]"
   ]
  },
  {
   "cell_type": "code",
   "execution_count": 20,
   "id": "7986505a",
   "metadata": {
    "scrolled": false
   },
   "outputs": [
    {
     "data": {
      "text/html": [
       "<div>\n",
       "<style scoped>\n",
       "    .dataframe tbody tr th:only-of-type {\n",
       "        vertical-align: middle;\n",
       "    }\n",
       "\n",
       "    .dataframe tbody tr th {\n",
       "        vertical-align: top;\n",
       "    }\n",
       "\n",
       "    .dataframe thead th {\n",
       "        text-align: right;\n",
       "    }\n",
       "</style>\n",
       "<table border=\"1\" class=\"dataframe\">\n",
       "  <thead>\n",
       "    <tr style=\"text-align: right;\">\n",
       "      <th></th>\n",
       "      <th>tweet_id</th>\n",
       "      <th>tweet_posted_on</th>\n",
       "      <th>tweets</th>\n",
       "      <th>cleaned_tweets</th>\n",
       "      <th>user_location</th>\n",
       "      <th>polarity</th>\n",
       "    </tr>\n",
       "  </thead>\n",
       "  <tbody>\n",
       "    <tr>\n",
       "      <th>0</th>\n",
       "      <td>1417169417587265540</td>\n",
       "      <td>2021-07-19 17:08:13+00:00</td>\n",
       "      <td>Here are some best sites to find remote jobs. ...</td>\n",
       "      <td>here some best site find remote job best part ...</td>\n",
       "      <td>United Kingdom</td>\n",
       "      <td>0</td>\n",
       "    </tr>\n",
       "    <tr>\n",
       "      <th>1</th>\n",
       "      <td>1417168947422576643</td>\n",
       "      <td>2021-07-19 17:06:21+00:00</td>\n",
       "      <td>The Writing Mom’s Manifesto - via @pensignal #...</td>\n",
       "      <td>writing manifesto</td>\n",
       "      <td>KY, USA</td>\n",
       "      <td>1</td>\n",
       "    </tr>\n",
       "    <tr>\n",
       "      <th>2</th>\n",
       "      <td>1417168870348050436</td>\n",
       "      <td>2021-07-19 17:06:03+00:00</td>\n",
       "      <td>Excellent Work From Home Jobs, Where to Find T...</td>\n",
       "      <td>excellent work from home job where find them s...</td>\n",
       "      <td>North America</td>\n",
       "      <td>1</td>\n",
       "    </tr>\n",
       "  </tbody>\n",
       "</table>\n",
       "</div>"
      ],
      "text/plain": [
       "              tweet_id           tweet_posted_on  \\\n",
       "0  1417169417587265540 2021-07-19 17:08:13+00:00   \n",
       "1  1417168947422576643 2021-07-19 17:06:21+00:00   \n",
       "2  1417168870348050436 2021-07-19 17:06:03+00:00   \n",
       "\n",
       "                                              tweets  \\\n",
       "0  Here are some best sites to find remote jobs. ...   \n",
       "1  The Writing Mom’s Manifesto - via @pensignal #...   \n",
       "2  Excellent Work From Home Jobs, Where to Find T...   \n",
       "\n",
       "                                      cleaned_tweets   user_location  polarity  \n",
       "0  here some best site find remote job best part ...  United Kingdom         0  \n",
       "1                                  writing manifesto         KY, USA         1  \n",
       "2  excellent work from home job where find them s...   North America         1  "
      ]
     },
     "execution_count": 20,
     "metadata": {},
     "output_type": "execute_result"
    }
   ],
   "source": [
    "#Check the dataframe\n",
    "wfh_df1.head(3)"
   ]
  },
  {
   "cell_type": "code",
   "execution_count": 21,
   "id": "d4d8d960",
   "metadata": {},
   "outputs": [],
   "source": [
    "#Save in a 'dataset' folder with a name 'wfh_df_mixed.csv'\n",
    "wfh_df1.to_csv('../dataset/cleaned_wfh_mixed.csv')"
   ]
  },
  {
   "cell_type": "markdown",
   "id": "70b79baf",
   "metadata": {},
   "source": [
    "**#remotework dataframe cleaning**"
   ]
  },
  {
   "cell_type": "code",
   "execution_count": 22,
   "id": "d9770835",
   "metadata": {},
   "outputs": [],
   "source": [
    "#Drop Unnamed: 0 column\n",
    "rw_df1.drop('Unnamed: 0', axis=1, inplace=True)"
   ]
  },
  {
   "cell_type": "code",
   "execution_count": 23,
   "id": "9d93c3a9",
   "metadata": {},
   "outputs": [
    {
     "data": {
      "text/html": [
       "<div>\n",
       "<style scoped>\n",
       "    .dataframe tbody tr th:only-of-type {\n",
       "        vertical-align: middle;\n",
       "    }\n",
       "\n",
       "    .dataframe tbody tr th {\n",
       "        vertical-align: top;\n",
       "    }\n",
       "\n",
       "    .dataframe thead th {\n",
       "        text-align: right;\n",
       "    }\n",
       "</style>\n",
       "<table border=\"1\" class=\"dataframe\">\n",
       "  <thead>\n",
       "    <tr style=\"text-align: right;\">\n",
       "      <th></th>\n",
       "      <th>tweets</th>\n",
       "      <th>user_location</th>\n",
       "      <th>tweet_posted_on</th>\n",
       "      <th>tweet_id</th>\n",
       "    </tr>\n",
       "  </thead>\n",
       "  <tbody>\n",
       "    <tr>\n",
       "      <th>0</th>\n",
       "      <td>RT @Humana_Careers: Your health and well-being...</td>\n",
       "      <td>Everywhere</td>\n",
       "      <td>Mon Jul 19 18:12:00 +0000 2021</td>\n",
       "      <td>1417185469247500288</td>\n",
       "    </tr>\n",
       "    <tr>\n",
       "      <th>1</th>\n",
       "      <td>Your health and well-being are our priority. W...</td>\n",
       "      <td>Louisville, KY</td>\n",
       "      <td>Mon Jul 19 18:11:55 +0000 2021</td>\n",
       "      <td>1417185446812082189</td>\n",
       "    </tr>\n",
       "    <tr>\n",
       "      <th>2</th>\n",
       "      <td>Introduce strong programming standards; mentor...</td>\n",
       "      <td>London | New York</td>\n",
       "      <td>Mon Jul 19 18:11:26 +0000 2021</td>\n",
       "      <td>1417185327039537155</td>\n",
       "    </tr>\n",
       "  </tbody>\n",
       "</table>\n",
       "</div>"
      ],
      "text/plain": [
       "                                              tweets      user_location  \\\n",
       "0  RT @Humana_Careers: Your health and well-being...         Everywhere   \n",
       "1  Your health and well-being are our priority. W...    Louisville, KY    \n",
       "2  Introduce strong programming standards; mentor...  London | New York   \n",
       "\n",
       "                  tweet_posted_on             tweet_id  \n",
       "0  Mon Jul 19 18:12:00 +0000 2021  1417185469247500288  \n",
       "1  Mon Jul 19 18:11:55 +0000 2021  1417185446812082189  \n",
       "2  Mon Jul 19 18:11:26 +0000 2021  1417185327039537155  "
      ]
     },
     "execution_count": 23,
     "metadata": {},
     "output_type": "execute_result"
    }
   ],
   "source": [
    "#Check to confirm if the column got deleted \n",
    "rw_df1.head(3)"
   ]
  },
  {
   "cell_type": "code",
   "execution_count": 24,
   "id": "6f7c7abf",
   "metadata": {},
   "outputs": [
    {
     "data": {
      "text/plain": [
       "(8776, 4)"
      ]
     },
     "execution_count": 24,
     "metadata": {},
     "output_type": "execute_result"
    }
   ],
   "source": [
    "#Check the shape of the dataframe\n",
    "rw_df1.shape"
   ]
  },
  {
   "cell_type": "code",
   "execution_count": 25,
   "id": "57f7c1af",
   "metadata": {},
   "outputs": [
    {
     "data": {
      "text/plain": [
       "tweets             0\n",
       "user_location      1\n",
       "tweet_posted_on    0\n",
       "tweet_id           0\n",
       "dtype: int64"
      ]
     },
     "execution_count": 25,
     "metadata": {},
     "output_type": "execute_result"
    }
   ],
   "source": [
    "#Check missing values\n",
    "rw_df1.isnull().sum()"
   ]
  },
  {
   "cell_type": "code",
   "execution_count": 26,
   "id": "1d4e50a4",
   "metadata": {},
   "outputs": [
    {
     "data": {
      "text/plain": [
       "tweets             object\n",
       "user_location      object\n",
       "tweet_posted_on    object\n",
       "tweet_id            int64\n",
       "dtype: object"
      ]
     },
     "execution_count": 26,
     "metadata": {},
     "output_type": "execute_result"
    }
   ],
   "source": [
    "#Check datatypes\n",
    "rw_df1.dtypes"
   ]
  },
  {
   "cell_type": "code",
   "execution_count": 27,
   "id": "40a7241e",
   "metadata": {},
   "outputs": [],
   "source": [
    "# Change column to be datetime dtype\n",
    "rw_df1['tweet_posted_on'] = pd.to_datetime(rw_df1['tweet_posted_on'])"
   ]
  },
  {
   "cell_type": "code",
   "execution_count": 28,
   "id": "7089d846",
   "metadata": {
    "scrolled": true
   },
   "outputs": [
    {
     "data": {
      "text/plain": [
       "array(['Everywhere', 'Louisville, KY ', 'London | New York', ...,\n",
       "       'en route', 'Toronto,Canada', 'Waterloo, Ontario '], dtype=object)"
      ]
     },
     "execution_count": 28,
     "metadata": {},
     "output_type": "execute_result"
    }
   ],
   "source": [
    "rw_df1['user_location'].unique()"
   ]
  },
  {
   "cell_type": "code",
   "execution_count": 29,
   "id": "8e3326d1",
   "metadata": {},
   "outputs": [],
   "source": [
    "#Create a new column for processed tweets\n",
    "rw_df1['cleaned_tweets'] = np.vectorize(remove_splchar)(rw_df1['tweets'])"
   ]
  },
  {
   "cell_type": "code",
   "execution_count": 30,
   "id": "f4e68fae",
   "metadata": {},
   "outputs": [],
   "source": [
    "#Get list of words which have more than 3 letters\n",
    "rw_df1['cleaned_tweets'] = rw_df1['cleaned_tweets'].apply(lambda x: ' '.join([w for w in x.split() if len(w)>3]))"
   ]
  },
  {
   "cell_type": "code",
   "execution_count": 31,
   "id": "1f7fbbba",
   "metadata": {},
   "outputs": [],
   "source": [
    "# Place new lists of lemmitized words into the 'cleaned_tweets' column in the dataframe\n",
    "rw_df1['cleaned_tweets'] = rw_df1['cleaned_tweets'].map(lemmitize)"
   ]
  },
  {
   "cell_type": "code",
   "execution_count": 32,
   "id": "b154611d",
   "metadata": {},
   "outputs": [],
   "source": [
    "#Create a new column 'polarity' to save tweet polarity score\n",
    "rw_df1['polarity'] = rw_df1['cleaned_tweets'].map(getPolarity)"
   ]
  },
  {
   "cell_type": "code",
   "execution_count": 33,
   "id": "78450e0e",
   "metadata": {},
   "outputs": [],
   "source": [
    "#Change column order\n",
    "rw_df1 = rw_df1[['tweet_id','tweet_posted_on','tweets','cleaned_tweets','user_location','polarity']]"
   ]
  },
  {
   "cell_type": "code",
   "execution_count": 34,
   "id": "52285220",
   "metadata": {
    "scrolled": true
   },
   "outputs": [
    {
     "data": {
      "text/html": [
       "<div>\n",
       "<style scoped>\n",
       "    .dataframe tbody tr th:only-of-type {\n",
       "        vertical-align: middle;\n",
       "    }\n",
       "\n",
       "    .dataframe tbody tr th {\n",
       "        vertical-align: top;\n",
       "    }\n",
       "\n",
       "    .dataframe thead th {\n",
       "        text-align: right;\n",
       "    }\n",
       "</style>\n",
       "<table border=\"1\" class=\"dataframe\">\n",
       "  <thead>\n",
       "    <tr style=\"text-align: right;\">\n",
       "      <th></th>\n",
       "      <th>tweet_id</th>\n",
       "      <th>tweet_posted_on</th>\n",
       "      <th>tweets</th>\n",
       "      <th>cleaned_tweets</th>\n",
       "      <th>user_location</th>\n",
       "      <th>polarity</th>\n",
       "    </tr>\n",
       "  </thead>\n",
       "  <tbody>\n",
       "    <tr>\n",
       "      <th>0</th>\n",
       "      <td>1417185469247500288</td>\n",
       "      <td>2021-07-19 18:12:00+00:00</td>\n",
       "      <td>RT @Humana_Careers: Your health and well-being...</td>\n",
       "      <td>your health well being priority proud offer em...</td>\n",
       "      <td>Everywhere</td>\n",
       "      <td>1</td>\n",
       "    </tr>\n",
       "    <tr>\n",
       "      <th>1</th>\n",
       "      <td>1417185446812082189</td>\n",
       "      <td>2021-07-19 18:11:55+00:00</td>\n",
       "      <td>Your health and well-being are our priority. W...</td>\n",
       "      <td>your health well being priority proud offer em...</td>\n",
       "      <td>Louisville, KY</td>\n",
       "      <td>1</td>\n",
       "    </tr>\n",
       "    <tr>\n",
       "      <th>2</th>\n",
       "      <td>1417185327039537155</td>\n",
       "      <td>2021-07-19 18:11:26+00:00</td>\n",
       "      <td>Introduce strong programming standards; mentor...</td>\n",
       "      <td>introduce strong programming standard mentor y...</td>\n",
       "      <td>London | New York</td>\n",
       "      <td>1</td>\n",
       "    </tr>\n",
       "  </tbody>\n",
       "</table>\n",
       "</div>"
      ],
      "text/plain": [
       "              tweet_id           tweet_posted_on  \\\n",
       "0  1417185469247500288 2021-07-19 18:12:00+00:00   \n",
       "1  1417185446812082189 2021-07-19 18:11:55+00:00   \n",
       "2  1417185327039537155 2021-07-19 18:11:26+00:00   \n",
       "\n",
       "                                              tweets  \\\n",
       "0  RT @Humana_Careers: Your health and well-being...   \n",
       "1  Your health and well-being are our priority. W...   \n",
       "2  Introduce strong programming standards; mentor...   \n",
       "\n",
       "                                      cleaned_tweets      user_location  \\\n",
       "0  your health well being priority proud offer em...         Everywhere   \n",
       "1  your health well being priority proud offer em...    Louisville, KY    \n",
       "2  introduce strong programming standard mentor y...  London | New York   \n",
       "\n",
       "   polarity  \n",
       "0         1  \n",
       "1         1  \n",
       "2         1  "
      ]
     },
     "execution_count": 34,
     "metadata": {},
     "output_type": "execute_result"
    }
   ],
   "source": [
    "#Check the dataframe\n",
    "rw_df1.head(3)"
   ]
  },
  {
   "cell_type": "code",
   "execution_count": 35,
   "id": "dd6aed25",
   "metadata": {},
   "outputs": [],
   "source": [
    "#Save in a 'dataset' folder with a name 'rw_df_mixed.csv'\n",
    "rw_df1.to_csv('../dataset/cleaned_rw_mixed.csv')"
   ]
  },
  {
   "cell_type": "markdown",
   "id": "8751a0c4",
   "metadata": {},
   "source": [
    "### Merge both dataframes"
   ]
  },
  {
   "cell_type": "code",
   "execution_count": 36,
   "id": "aaab7318",
   "metadata": {},
   "outputs": [
    {
     "data": {
      "text/plain": [
       "887"
      ]
     },
     "execution_count": 36,
     "metadata": {},
     "output_type": "execute_result"
    }
   ],
   "source": [
    "#https://www.geeksforgeeks.org/python-intersection-two-lists/\n",
    "#Check number of rows that are common in both based on 'tweet_id'\n",
    "len(set(rw_df1['tweet_id']).intersection(wfh_df1['tweet_id']))"
   ]
  },
  {
   "cell_type": "code",
   "execution_count": 37,
   "id": "ef3bc2a9",
   "metadata": {},
   "outputs": [],
   "source": [
    "#https://stackoverflow.com/questions/21317384/pandas-python-how-to-concatenate-two-dataframes-without-duplicates\n",
    "#https://pandas.pydata.org/docs/reference/api/pandas.DataFrame.drop_duplicates.html\n",
    "#Concatenate both datasets\n",
    "data_from_11to19 = pd.concat([rw_df1,wfh_df1]).drop_duplicates(subset=['tweet_id'], keep='first').reset_index(drop=True)"
   ]
  },
  {
   "cell_type": "code",
   "execution_count": 38,
   "id": "4904dcfb",
   "metadata": {},
   "outputs": [
    {
     "data": {
      "text/plain": [
       "(15504, 6)"
      ]
     },
     "execution_count": 38,
     "metadata": {},
     "output_type": "execute_result"
    }
   ],
   "source": [
    "#Check the shape of the dataframe\n",
    "data_from_11to19.shape"
   ]
  },
  {
   "cell_type": "code",
   "execution_count": 39,
   "id": "adb0cf87",
   "metadata": {},
   "outputs": [
    {
     "data": {
      "text/html": [
       "<div>\n",
       "<style scoped>\n",
       "    .dataframe tbody tr th:only-of-type {\n",
       "        vertical-align: middle;\n",
       "    }\n",
       "\n",
       "    .dataframe tbody tr th {\n",
       "        vertical-align: top;\n",
       "    }\n",
       "\n",
       "    .dataframe thead th {\n",
       "        text-align: right;\n",
       "    }\n",
       "</style>\n",
       "<table border=\"1\" class=\"dataframe\">\n",
       "  <thead>\n",
       "    <tr style=\"text-align: right;\">\n",
       "      <th></th>\n",
       "      <th>tweet_id</th>\n",
       "      <th>tweet_posted_on</th>\n",
       "      <th>tweets</th>\n",
       "      <th>cleaned_tweets</th>\n",
       "      <th>user_location</th>\n",
       "      <th>polarity</th>\n",
       "    </tr>\n",
       "  </thead>\n",
       "  <tbody>\n",
       "    <tr>\n",
       "      <th>0</th>\n",
       "      <td>1417185469247500288</td>\n",
       "      <td>2021-07-19 18:12:00+00:00</td>\n",
       "      <td>RT @Humana_Careers: Your health and well-being...</td>\n",
       "      <td>your health well being priority proud offer em...</td>\n",
       "      <td>Everywhere</td>\n",
       "      <td>1</td>\n",
       "    </tr>\n",
       "    <tr>\n",
       "      <th>1</th>\n",
       "      <td>1417185446812082189</td>\n",
       "      <td>2021-07-19 18:11:55+00:00</td>\n",
       "      <td>Your health and well-being are our priority. W...</td>\n",
       "      <td>your health well being priority proud offer em...</td>\n",
       "      <td>Louisville, KY</td>\n",
       "      <td>1</td>\n",
       "    </tr>\n",
       "    <tr>\n",
       "      <th>2</th>\n",
       "      <td>1417185327039537155</td>\n",
       "      <td>2021-07-19 18:11:26+00:00</td>\n",
       "      <td>Introduce strong programming standards; mentor...</td>\n",
       "      <td>introduce strong programming standard mentor y...</td>\n",
       "      <td>London | New York</td>\n",
       "      <td>1</td>\n",
       "    </tr>\n",
       "  </tbody>\n",
       "</table>\n",
       "</div>"
      ],
      "text/plain": [
       "              tweet_id           tweet_posted_on  \\\n",
       "0  1417185469247500288 2021-07-19 18:12:00+00:00   \n",
       "1  1417185446812082189 2021-07-19 18:11:55+00:00   \n",
       "2  1417185327039537155 2021-07-19 18:11:26+00:00   \n",
       "\n",
       "                                              tweets  \\\n",
       "0  RT @Humana_Careers: Your health and well-being...   \n",
       "1  Your health and well-being are our priority. W...   \n",
       "2  Introduce strong programming standards; mentor...   \n",
       "\n",
       "                                      cleaned_tweets      user_location  \\\n",
       "0  your health well being priority proud offer em...         Everywhere   \n",
       "1  your health well being priority proud offer em...    Louisville, KY    \n",
       "2  introduce strong programming standard mentor y...  London | New York   \n",
       "\n",
       "   polarity  \n",
       "0         1  \n",
       "1         1  \n",
       "2         1  "
      ]
     },
     "execution_count": 39,
     "metadata": {},
     "output_type": "execute_result"
    }
   ],
   "source": [
    "data_from_11to19.head(3)"
   ]
  },
  {
   "cell_type": "code",
   "execution_count": 40,
   "id": "71d7ded2",
   "metadata": {},
   "outputs": [],
   "source": [
    "#Save in a 'dataset' folder with a name 'final_df.csv'\n",
    "data_from_11to19.to_csv('../dataset/data_from_11to19.csv')"
   ]
  },
  {
   "cell_type": "code",
   "execution_count": 40,
   "id": "466fdc2c",
   "metadata": {
    "scrolled": false
   },
   "outputs": [
    {
     "data": {
      "image/png": "[encoded data removed]",
      "text/plain": [
       "<Figure size 432x288 with 1 Axes>"
      ]
     },
     "metadata": {},
     "output_type": "display_data"
    }
   ],
   "source": [
    "#https://stackoverflow.com/questions/39969089/how-to-create-pie-chart\n",
    "#https://stackoverflow.com/questions/19852215/how-to-add-a-legend-to-matplotlib-pie-chart\n",
    "label = ['positive','negative']\n",
    "colors = ['green', 'orange'] \n",
    "plt.pie(wfh_df1['polarity'].value_counts(),labels=label,colors=colors, startangle=90, shadow = True,\n",
    "        explode = (0, 0.1), autopct = '%1.2f%%',radius=2) \n",
    "plt.show()"
   ]
  },
  {
   "cell_type": "code",
   "execution_count": 41,
   "id": "849d8a42",
   "metadata": {},
   "outputs": [
    {
     "data": {
      "text/plain": [
       "<AxesSubplot:>"
      ]
     },
     "execution_count": 41,
     "metadata": {},
     "output_type": "execute_result"
    },
    {
     "data": {
      "image/png": "[encoded data removed]",
      "text/plain": [
       "<Figure size 432x288 with 1 Axes>"
      ]
     },
     "metadata": {
      "needs_background": "light"
     },
     "output_type": "display_data"
    }
   ],
   "source": [
    "wfh_df1['date']=wfh_df1['tweet_posted_on'].dt.date\n",
    "wfh_df1['date'].value_counts().plot(kind='barh')"
   ]
  },
  {
   "cell_type": "code",
   "execution_count": 42,
   "id": "95e3862f",
   "metadata": {},
   "outputs": [
    {
     "data": {
      "image/png": "[encoded data removed]",
      "text/plain": [
       "<Figure size 432x288 with 1 Axes>"
      ]
     },
     "metadata": {},
     "output_type": "display_data"
    }
   ],
   "source": [
    "label = ['positive','negative']\n",
    "colors = ['green', 'orange'] \n",
    "plt.pie(rw_df1['polarity'].value_counts(),labels=label,colors=colors, startangle=90, shadow = True,\n",
    "        explode = (0, 0.1), autopct = '%1.2f%%',radius=2) \n",
    "plt.show()"
   ]
  },
  {
   "cell_type": "code",
   "execution_count": 43,
   "id": "1b9fcf21",
   "metadata": {},
   "outputs": [
    {
     "data": {
      "text/plain": [
       "<AxesSubplot:>"
      ]
     },
     "execution_count": 43,
     "metadata": {},
     "output_type": "execute_result"
    },
    {
     "data": {
      "image/png": "[encoded data removed]",
      "text/plain": [
       "<Figure size 432x288 with 1 Axes>"
      ]
     },
     "metadata": {
      "needs_background": "light"
     },
     "output_type": "display_data"
    }
   ],
   "source": [
    "rw_df1['date']=rw_df1['tweet_posted_on'].dt.date\n",
    "rw_df1['date'].value_counts().plot(kind='barh')"
   ]
  },
  {
   "cell_type": "code",
   "execution_count": 48,
   "id": "103cf2f3",
   "metadata": {
    "scrolled": false
   },
   "outputs": [
    {
     "data": {
      "text/plain": [
       "<AxesSubplot:xlabel='date'>"
      ]
     },
     "execution_count": 48,
     "metadata": {},
     "output_type": "execute_result"
    },
    {
     "data": {
      "image/png": "[encoded data removed]",
      "text/plain": [
       "<Figure size 720x360 with 1 Axes>"
      ]
     },
     "metadata": {
      "needs_background": "light"
     },
     "output_type": "display_data"
    }
   ],
   "source": [
    "plt.figure(figsize=(10,5))\n",
    "final_df_1['date'] = pd.to_datetime(final_df_1['tweet_posted_on']).dt.date\n",
    "final_df_1.groupby(by='date')['polarity'].mean().plot(legend=True)"
   ]
  },
  {
   "cell_type": "code",
   "execution_count": null,
   "id": "c754ef54",
   "metadata": {},
   "outputs": [],
   "source": [
    "X = final_df['cleaned_tweets']\n",
    "y = final_df['polarity']"
   ]
  },
  {
   "cell_type": "code",
   "execution_count": null,
   "id": "554c22c4",
   "metadata": {},
   "outputs": [],
   "source": [
    "# cv_bigrams = CountVectorizer(stop_words = 'english',ngram_range=(2,2))\n",
    "# cv_bigrams.fit(final_df['cleaned_tweets'])\n",
    "# bigrams_cv = cv_bigrams.transform(final_df['cleaned_tweets'])\n",
    "# bigrams_df = pd.DataFrame(bigrams_cv.todense(),columns=cv_bigrams.get_feature_names())"
   ]
  },
  {
   "cell_type": "code",
   "execution_count": null,
   "id": "b78c8fbf",
   "metadata": {},
   "outputs": [],
   "source": [
    "# from sklearn.feature_extraction.text import TfidfVectorizer\n",
    "# tf_idf = TfidfVectorizer(ngram_range=(1,1),stop_words='english', min_df = 2)"
   ]
  },
  {
   "cell_type": "code",
   "execution_count": null,
   "id": "6770b0af",
   "metadata": {},
   "outputs": [],
   "source": [
    "# tf_idf.fit(final_df['cleaned_tweets'])\n",
    "# tfidf = tf_idf.transform(final_df['cleaned_tweets'])"
   ]
  },
  {
   "cell_type": "code",
   "execution_count": null,
   "id": "94ab44b6",
   "metadata": {},
   "outputs": [],
   "source": []
  }
 ],
 "metadata": {
  "kernelspec": {
   "display_name": "Python 3",
   "language": "python",
   "name": "python3"
  },
  "language_info": {
   "codemirror_mode": {
    "name": "ipython",
    "version": 3
   },
   "file_extension": ".py",
   "mimetype": "text/x-python",
   "name": "python",
   "nbconvert_exporter": "python",
   "pygments_lexer": "ipython3",
   "version": "3.8.10"
  }
 },
 "nbformat": 4,
 "nbformat_minor": 5
}
