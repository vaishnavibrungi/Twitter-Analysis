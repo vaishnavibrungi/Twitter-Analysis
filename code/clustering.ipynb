{
 "cells": [
  {
   "cell_type": "code",
   "execution_count": 150,
   "id": "ecbe1b10",
   "metadata": {},
   "outputs": [],
   "source": [
    "#Import libraries\n",
    "import pandas as pd\n",
    "import numpy as np\n",
    "import gensim.downloader as api\n",
    "from gensim.models.word2vec import Word2Vec\n",
    "from transformers import pipeline\n",
    "\n",
    "import warnings\n",
    "warnings.simplefilter(action='ignore', category=FutureWarning)\n",
    "\n",
    "# # Load pre-trained model tokenizer (vocabulary)\n",
    "# tokenizer = BertTokenizer.from_pretrained('bert-base-uncased')"
   ]
  },
  {
   "cell_type": "code",
   "execution_count": 151,
   "id": "6c4625e4",
   "metadata": {},
   "outputs": [],
   "source": [
    "final_df = pd.read_csv(\"../dataset/final_df.csv\")"
   ]
  },
  {
   "cell_type": "code",
   "execution_count": 152,
   "id": "fb27902f",
   "metadata": {},
   "outputs": [],
   "source": [
    "#Drop Unnamed: 0 column\n",
    "final_df.drop('Unnamed: 0', axis=1, inplace=True)"
   ]
  },
  {
   "cell_type": "code",
   "execution_count": 153,
   "id": "61f6e1ed",
   "metadata": {
    "scrolled": true
   },
   "outputs": [
    {
     "data": {
      "text/plain": [
       "tweet_id            0\n",
       "tweet_posted_on     0\n",
       "tweets              0\n",
       "cleaned_tweets     15\n",
       "user_location       0\n",
       "polarity            0\n",
       "dtype: int64"
      ]
     },
     "execution_count": 153,
     "metadata": {},
     "output_type": "execute_result"
    }
   ],
   "source": [
    "final_df.isnull().sum()"
   ]
  },
  {
   "cell_type": "code",
   "execution_count": 154,
   "id": "8ef42bb9",
   "metadata": {
    "scrolled": true
   },
   "outputs": [
    {
     "data": {
      "text/plain": [
       "(array([4017, 4018, 5236, 5830, 5929, 5997, 6118, 6307, 6308, 6797, 7734,\n",
       "        9653, 9864, 9869, 9978]),)"
      ]
     },
     "execution_count": 154,
     "metadata": {},
     "output_type": "execute_result"
    }
   ],
   "source": [
    "np.where(final_df['cleaned_tweets'].isnull() == True)"
   ]
  },
  {
   "cell_type": "code",
   "execution_count": 156,
   "id": "2f9a8a1d",
   "metadata": {
    "scrolled": true
   },
   "outputs": [
    {
     "data": {
      "text/plain": [
       "(10219, 6)"
      ]
     },
     "execution_count": 156,
     "metadata": {},
     "output_type": "execute_result"
    }
   ],
   "source": [
    "final_df = final_df.dropna().reset_index(drop=True)\n",
    "# final_df.reset_index(drop=True)\n",
    "final_df.shape"
   ]
  },
  {
   "cell_type": "code",
   "execution_count": 172,
   "id": "fb0a5f1d",
   "metadata": {},
   "outputs": [],
   "source": [
    "final_df[\"tweet_word_count\"]= final_df['cleaned_tweets'].str.split().map(len)"
   ]
  },
  {
   "cell_type": "code",
   "execution_count": 173,
   "id": "e3f73a94",
   "metadata": {},
   "outputs": [
    {
     "data": {
      "text/plain": [
       "5812    30\n",
       "7396    30\n",
       "5952    29\n",
       "5470    29\n",
       "7200    29\n",
       "Name: tweet_word_count, dtype: int64"
      ]
     },
     "execution_count": 173,
     "metadata": {},
     "output_type": "execute_result"
    }
   ],
   "source": [
    "final_df[\"tweet_word_count\"].sort_values(ascending=False).head()"
   ]
  },
  {
   "cell_type": "code",
   "execution_count": 157,
   "id": "ff4064b0",
   "metadata": {},
   "outputs": [],
   "source": [
    "# X = final_df['cleaned_tweets']\n",
    "# y = final_df['polarity']"
   ]
  },
  {
   "cell_type": "code",
   "execution_count": 158,
   "id": "6f150348",
   "metadata": {},
   "outputs": [],
   "source": [
    "# from sklearn.feature_extraction.text import TfidfVectorizer\n",
    "# tf_idf = TfidfVectorizer(ngram_range=(1,1),stop_words='english', min_df = 2)"
   ]
  },
  {
   "cell_type": "code",
   "execution_count": 159,
   "id": "fe5feac4",
   "metadata": {},
   "outputs": [],
   "source": [
    "corpus = api.load('text8')\n",
    "model = Word2Vec(corpus)"
   ]
  },
  {
   "cell_type": "code",
   "execution_count": 160,
   "id": "764e9ece",
   "metadata": {},
   "outputs": [],
   "source": [
    "def get_avg_vec(text):\n",
    "    try:\n",
    "        # make a list of only the words in the document that are in the word2vec vocabulary\n",
    "        valid_words = [word for word in text.lower().split() if word in model.wv.key_to_index]\n",
    "        \n",
    "        if len(valid_words) == 0:\n",
    "            print();\n",
    "            return np.zeros(shape=(100,))\n",
    "        else:\n",
    "            # return average word vector, for words in the document that exist in the vocab\n",
    "            return np.mean([model.wv.get_vector(word) for word in valid_words], axis=0)\n",
    "    except AttributeError:\n",
    "        return np.zeros(shape=(100,))"
   ]
  },
  {
   "cell_type": "code",
   "execution_count": 161,
   "id": "c4afa687",
   "metadata": {},
   "outputs": [],
   "source": [
    "avg_vecs = [get_avg_vec(doc) for doc in final_df['cleaned_tweets']]"
   ]
  },
  {
   "cell_type": "code",
   "execution_count": 162,
   "id": "7bace369",
   "metadata": {},
   "outputs": [],
   "source": [
    "vec_df = pd.DataFrame(avg_vecs)"
   ]
  },
  {
   "cell_type": "code",
   "execution_count": 163,
   "id": "88bbd5b3",
   "metadata": {},
   "outputs": [
    {
     "data": {
      "text/plain": [
       "((10219, 100), (10219, 6))"
      ]
     },
     "execution_count": 163,
     "metadata": {},
     "output_type": "execute_result"
    }
   ],
   "source": [
    "vec_df.shape, final_df.shape"
   ]
  },
  {
   "cell_type": "code",
   "execution_count": 164,
   "id": "3dc3052c",
   "metadata": {},
   "outputs": [],
   "source": [
    "full_df = pd.concat([final_df, vec_df], axis=1)"
   ]
  },
  {
   "cell_type": "code",
   "execution_count": 165,
   "id": "e6f8034d",
   "metadata": {},
   "outputs": [],
   "source": [
    "full_df = full_df.reset_index(drop=True)"
   ]
  },
  {
   "cell_type": "code",
   "execution_count": 174,
   "id": "e14bb8c4",
   "metadata": {
    "scrolled": true
   },
   "outputs": [
    {
     "data": {
      "text/html": [
       "<div>\n",
       "<style scoped>\n",
       "    .dataframe tbody tr th:only-of-type {\n",
       "        vertical-align: middle;\n",
       "    }\n",
       "\n",
       "    .dataframe tbody tr th {\n",
       "        vertical-align: top;\n",
       "    }\n",
       "\n",
       "    .dataframe thead th {\n",
       "        text-align: right;\n",
       "    }\n",
       "</style>\n",
       "<table border=\"1\" class=\"dataframe\">\n",
       "  <thead>\n",
       "    <tr style=\"text-align: right;\">\n",
       "      <th></th>\n",
       "      <th>tweet_id</th>\n",
       "      <th>tweet_posted_on</th>\n",
       "      <th>tweets</th>\n",
       "      <th>cleaned_tweets</th>\n",
       "      <th>user_location</th>\n",
       "      <th>polarity</th>\n",
       "      <th>0</th>\n",
       "      <th>1</th>\n",
       "      <th>2</th>\n",
       "      <th>3</th>\n",
       "      <th>...</th>\n",
       "      <th>90</th>\n",
       "      <th>91</th>\n",
       "      <th>92</th>\n",
       "      <th>93</th>\n",
       "      <th>94</th>\n",
       "      <th>95</th>\n",
       "      <th>96</th>\n",
       "      <th>97</th>\n",
       "      <th>98</th>\n",
       "      <th>99</th>\n",
       "    </tr>\n",
       "  </thead>\n",
       "  <tbody>\n",
       "    <tr>\n",
       "      <th>0</th>\n",
       "      <td>1416181616846811137</td>\n",
       "      <td>2021-07-16 23:43:03+00:00</td>\n",
       "      <td>🏡 #RemoteWork is on the rise &amp;amp; slowly beco...</td>\n",
       "      <td>rise slowly becoming normal which mean need re...</td>\n",
       "      <td>New York, NY</td>\n",
       "      <td>1</td>\n",
       "      <td>-0.077039</td>\n",
       "      <td>-0.044316</td>\n",
       "      <td>-0.050910</td>\n",
       "      <td>-0.098366</td>\n",
       "      <td>...</td>\n",
       "      <td>-0.655071</td>\n",
       "      <td>0.571734</td>\n",
       "      <td>-0.122999</td>\n",
       "      <td>-0.021019</td>\n",
       "      <td>0.487966</td>\n",
       "      <td>0.341596</td>\n",
       "      <td>-0.476278</td>\n",
       "      <td>-0.388178</td>\n",
       "      <td>-0.730599</td>\n",
       "      <td>1.616314</td>\n",
       "    </tr>\n",
       "    <tr>\n",
       "      <th>1</th>\n",
       "      <td>1416181380279635970</td>\n",
       "      <td>2021-07-16 23:42:07+00:00</td>\n",
       "      <td>Opportunity to join a fantastic team at a hi-t...</td>\n",
       "      <td>opportunity join fantastic team tech fast pace...</td>\n",
       "      <td>London | New York</td>\n",
       "      <td>1</td>\n",
       "      <td>-0.380845</td>\n",
       "      <td>0.062617</td>\n",
       "      <td>0.320995</td>\n",
       "      <td>0.221312</td>\n",
       "      <td>...</td>\n",
       "      <td>-0.622195</td>\n",
       "      <td>0.189858</td>\n",
       "      <td>-0.220674</td>\n",
       "      <td>0.033521</td>\n",
       "      <td>0.471493</td>\n",
       "      <td>-0.024984</td>\n",
       "      <td>0.122539</td>\n",
       "      <td>-0.126738</td>\n",
       "      <td>-0.099358</td>\n",
       "      <td>0.736000</td>\n",
       "    </tr>\n",
       "    <tr>\n",
       "      <th>2</th>\n",
       "      <td>1416181225979473920</td>\n",
       "      <td>2021-07-16 23:41:30+00:00</td>\n",
       "      <td>Good news for #JobSeekers open to #RemoteWork!...</td>\n",
       "      <td>good news open this excellent report from remo...</td>\n",
       "      <td>Sydney | Hong Kong | Singapore</td>\n",
       "      <td>1</td>\n",
       "      <td>-0.636822</td>\n",
       "      <td>-0.006772</td>\n",
       "      <td>-0.153514</td>\n",
       "      <td>0.010284</td>\n",
       "      <td>...</td>\n",
       "      <td>-0.928449</td>\n",
       "      <td>0.319843</td>\n",
       "      <td>0.127365</td>\n",
       "      <td>-0.481943</td>\n",
       "      <td>-0.016514</td>\n",
       "      <td>0.238588</td>\n",
       "      <td>0.242743</td>\n",
       "      <td>-0.050151</td>\n",
       "      <td>-0.028195</td>\n",
       "      <td>1.390743</td>\n",
       "    </tr>\n",
       "  </tbody>\n",
       "</table>\n",
       "<p>3 rows × 106 columns</p>\n",
       "</div>"
      ],
      "text/plain": [
       "              tweet_id            tweet_posted_on  \\\n",
       "0  1416181616846811137  2021-07-16 23:43:03+00:00   \n",
       "1  1416181380279635970  2021-07-16 23:42:07+00:00   \n",
       "2  1416181225979473920  2021-07-16 23:41:30+00:00   \n",
       "\n",
       "                                              tweets  \\\n",
       "0  🏡 #RemoteWork is on the rise &amp; slowly beco...   \n",
       "1  Opportunity to join a fantastic team at a hi-t...   \n",
       "2  Good news for #JobSeekers open to #RemoteWork!...   \n",
       "\n",
       "                                      cleaned_tweets  \\\n",
       "0  rise slowly becoming normal which mean need re...   \n",
       "1  opportunity join fantastic team tech fast pace...   \n",
       "2  good news open this excellent report from remo...   \n",
       "\n",
       "                    user_location  polarity         0         1         2  \\\n",
       "0                    New York, NY         1 -0.077039 -0.044316 -0.050910   \n",
       "1               London | New York         1 -0.380845  0.062617  0.320995   \n",
       "2  Sydney | Hong Kong | Singapore         1 -0.636822 -0.006772 -0.153514   \n",
       "\n",
       "          3  ...        90        91        92        93        94        95  \\\n",
       "0 -0.098366  ... -0.655071  0.571734 -0.122999 -0.021019  0.487966  0.341596   \n",
       "1  0.221312  ... -0.622195  0.189858 -0.220674  0.033521  0.471493 -0.024984   \n",
       "2  0.010284  ... -0.928449  0.319843  0.127365 -0.481943 -0.016514  0.238588   \n",
       "\n",
       "         96        97        98        99  \n",
       "0 -0.476278 -0.388178 -0.730599  1.616314  \n",
       "1  0.122539 -0.126738 -0.099358  0.736000  \n",
       "2  0.242743 -0.050151 -0.028195  1.390743  \n",
       "\n",
       "[3 rows x 106 columns]"
      ]
     },
     "execution_count": 174,
     "metadata": {},
     "output_type": "execute_result"
    }
   ],
   "source": [
    "full_df.head(3)"
   ]
  },
  {
   "cell_type": "code",
   "execution_count": 177,
   "id": "211e3758",
   "metadata": {},
   "outputs": [],
   "source": [
    "from sklearn.cluster import DBSCAN"
   ]
  },
  {
   "cell_type": "code",
   "execution_count": 178,
   "id": "666f4dc9",
   "metadata": {},
   "outputs": [],
   "source": [
    "vec_col_names = full_df.columns[7:]"
   ]
  },
  {
   "cell_type": "code",
   "execution_count": 179,
   "id": "0b12250a",
   "metadata": {},
   "outputs": [],
   "source": [
    "vec_cols = full_df[vec_col_names]"
   ]
  },
  {
   "cell_type": "code",
   "execution_count": 180,
   "id": "15cfb41b",
   "metadata": {},
   "outputs": [
    {
     "data": {
      "text/plain": [
       "DBSCAN(eps=1)"
      ]
     },
     "execution_count": 180,
     "metadata": {},
     "output_type": "execute_result"
    }
   ],
   "source": [
    "db = DBSCAN(eps=1)\n",
    "db.fit(vec_cols)"
   ]
  },
  {
   "cell_type": "code",
   "execution_count": 181,
   "id": "3eb6b9b1",
   "metadata": {},
   "outputs": [],
   "source": [
    "full_df['cluster_labels'] = db.labels_"
   ]
  },
  {
   "cell_type": "code",
   "execution_count": 183,
   "id": "8801b133",
   "metadata": {},
   "outputs": [
    {
     "data": {
      "text/plain": [
       "-1      8038\n",
       " 7        95\n",
       " 124      81\n",
       " 214      77\n",
       " 128      57\n",
       "        ... \n",
       " 92        5\n",
       " 84        5\n",
       " 76        5\n",
       " 60        5\n",
       " 212       5\n",
       "Name: cluster_labels, Length: 232, dtype: int64"
      ]
     },
     "execution_count": 183,
     "metadata": {},
     "output_type": "execute_result"
    }
   ],
   "source": [
    "full_df['cluster_labels'].value_counts()"
   ]
  },
  {
   "cell_type": "code",
   "execution_count": 190,
   "id": "15439659",
   "metadata": {},
   "outputs": [
    {
     "data": {
      "text/html": [
       "<div>\n",
       "<style scoped>\n",
       "    .dataframe tbody tr th:only-of-type {\n",
       "        vertical-align: middle;\n",
       "    }\n",
       "\n",
       "    .dataframe tbody tr th {\n",
       "        vertical-align: top;\n",
       "    }\n",
       "\n",
       "    .dataframe thead th {\n",
       "        text-align: right;\n",
       "    }\n",
       "</style>\n",
       "<table border=\"1\" class=\"dataframe\">\n",
       "  <thead>\n",
       "    <tr style=\"text-align: right;\">\n",
       "      <th></th>\n",
       "      <th>tweet_id</th>\n",
       "      <th>tweet_posted_on</th>\n",
       "      <th>tweets</th>\n",
       "      <th>cleaned_tweets</th>\n",
       "      <th>user_location</th>\n",
       "      <th>polarity</th>\n",
       "      <th>0</th>\n",
       "      <th>1</th>\n",
       "      <th>2</th>\n",
       "      <th>3</th>\n",
       "      <th>...</th>\n",
       "      <th>91</th>\n",
       "      <th>92</th>\n",
       "      <th>93</th>\n",
       "      <th>94</th>\n",
       "      <th>95</th>\n",
       "      <th>96</th>\n",
       "      <th>97</th>\n",
       "      <th>98</th>\n",
       "      <th>99</th>\n",
       "      <th>cluster_labels</th>\n",
       "    </tr>\n",
       "  </thead>\n",
       "  <tbody>\n",
       "    <tr>\n",
       "      <th>29</th>\n",
       "      <td>1416170176110813187</td>\n",
       "      <td>2021-07-16 22:57:35+00:00</td>\n",
       "      <td>RT: Jobicy: Hiring Care (@HiringCare)\\nRT: Ren...</td>\n",
       "      <td>jobicy hiring care renee chanelle remote work ...</td>\n",
       "      <td>Everywhere</td>\n",
       "      <td>0</td>\n",
       "      <td>-0.102201</td>\n",
       "      <td>-0.444967</td>\n",
       "      <td>-0.278265</td>\n",
       "      <td>-0.090209</td>\n",
       "      <td>...</td>\n",
       "      <td>0.638703</td>\n",
       "      <td>0.074526</td>\n",
       "      <td>0.346388</td>\n",
       "      <td>1.202808</td>\n",
       "      <td>0.241392</td>\n",
       "      <td>-0.238126</td>\n",
       "      <td>-0.357663</td>\n",
       "      <td>0.070542</td>\n",
       "      <td>1.124353</td>\n",
       "      <td>1</td>\n",
       "    </tr>\n",
       "    <tr>\n",
       "      <th>31</th>\n",
       "      <td>1416169208875003906</td>\n",
       "      <td>2021-07-16 22:53:45+00:00</td>\n",
       "      <td>RT @ReneeChane11e: Is Remote work still being ...</td>\n",
       "      <td>remote work still being used leverage called p...</td>\n",
       "      <td>Chicago, IL</td>\n",
       "      <td>0</td>\n",
       "      <td>-0.149448</td>\n",
       "      <td>-0.525670</td>\n",
       "      <td>-0.280051</td>\n",
       "      <td>-0.093512</td>\n",
       "      <td>...</td>\n",
       "      <td>0.635551</td>\n",
       "      <td>0.158300</td>\n",
       "      <td>0.456837</td>\n",
       "      <td>1.484006</td>\n",
       "      <td>0.150480</td>\n",
       "      <td>-0.219410</td>\n",
       "      <td>-0.348352</td>\n",
       "      <td>0.109638</td>\n",
       "      <td>1.116263</td>\n",
       "      <td>1</td>\n",
       "    </tr>\n",
       "    <tr>\n",
       "      <th>35</th>\n",
       "      <td>1416168714567831554</td>\n",
       "      <td>2021-07-16 22:51:47+00:00</td>\n",
       "      <td>RT: Renee Chanelle (@ReneeChane11e)\\nIs Remote...</td>\n",
       "      <td>renee chanelle remote work still being used le...</td>\n",
       "      <td>Everywhere</td>\n",
       "      <td>0</td>\n",
       "      <td>-0.141815</td>\n",
       "      <td>-0.485885</td>\n",
       "      <td>-0.259081</td>\n",
       "      <td>-0.083687</td>\n",
       "      <td>...</td>\n",
       "      <td>0.590242</td>\n",
       "      <td>0.149800</td>\n",
       "      <td>0.425558</td>\n",
       "      <td>1.380219</td>\n",
       "      <td>0.139306</td>\n",
       "      <td>-0.204061</td>\n",
       "      <td>-0.327123</td>\n",
       "      <td>0.101292</td>\n",
       "      <td>1.036927</td>\n",
       "      <td>1</td>\n",
       "    </tr>\n",
       "    <tr>\n",
       "      <th>38</th>\n",
       "      <td>1416168040367104004</td>\n",
       "      <td>2021-07-16 22:49:06+00:00</td>\n",
       "      <td>RT @ReneeChane11e: Is Remote work still being ...</td>\n",
       "      <td>remote work still being used leverage called p...</td>\n",
       "      <td>Berlin, Germany</td>\n",
       "      <td>0</td>\n",
       "      <td>-0.149448</td>\n",
       "      <td>-0.525670</td>\n",
       "      <td>-0.280051</td>\n",
       "      <td>-0.093512</td>\n",
       "      <td>...</td>\n",
       "      <td>0.635551</td>\n",
       "      <td>0.158300</td>\n",
       "      <td>0.456837</td>\n",
       "      <td>1.484006</td>\n",
       "      <td>0.150480</td>\n",
       "      <td>-0.219410</td>\n",
       "      <td>-0.348352</td>\n",
       "      <td>0.109638</td>\n",
       "      <td>1.116263</td>\n",
       "      <td>1</td>\n",
       "    </tr>\n",
       "    <tr>\n",
       "      <th>45</th>\n",
       "      <td>1416167740017188866</td>\n",
       "      <td>2021-07-16 22:47:55+00:00</td>\n",
       "      <td>Is Remote work still being used as leverage or...</td>\n",
       "      <td>remote work still being used leverage called p...</td>\n",
       "      <td>Brisbane, Queensland</td>\n",
       "      <td>0</td>\n",
       "      <td>-0.149448</td>\n",
       "      <td>-0.525670</td>\n",
       "      <td>-0.280051</td>\n",
       "      <td>-0.093512</td>\n",
       "      <td>...</td>\n",
       "      <td>0.635551</td>\n",
       "      <td>0.158300</td>\n",
       "      <td>0.456837</td>\n",
       "      <td>1.484006</td>\n",
       "      <td>0.150480</td>\n",
       "      <td>-0.219410</td>\n",
       "      <td>-0.348352</td>\n",
       "      <td>0.109638</td>\n",
       "      <td>1.116263</td>\n",
       "      <td>1</td>\n",
       "    </tr>\n",
       "  </tbody>\n",
       "</table>\n",
       "<p>5 rows × 107 columns</p>\n",
       "</div>"
      ],
      "text/plain": [
       "               tweet_id            tweet_posted_on  \\\n",
       "29  1416170176110813187  2021-07-16 22:57:35+00:00   \n",
       "31  1416169208875003906  2021-07-16 22:53:45+00:00   \n",
       "35  1416168714567831554  2021-07-16 22:51:47+00:00   \n",
       "38  1416168040367104004  2021-07-16 22:49:06+00:00   \n",
       "45  1416167740017188866  2021-07-16 22:47:55+00:00   \n",
       "\n",
       "                                               tweets  \\\n",
       "29  RT: Jobicy: Hiring Care (@HiringCare)\\nRT: Ren...   \n",
       "31  RT @ReneeChane11e: Is Remote work still being ...   \n",
       "35  RT: Renee Chanelle (@ReneeChane11e)\\nIs Remote...   \n",
       "38  RT @ReneeChane11e: Is Remote work still being ...   \n",
       "45  Is Remote work still being used as leverage or...   \n",
       "\n",
       "                                       cleaned_tweets         user_location  \\\n",
       "29  jobicy hiring care renee chanelle remote work ...            Everywhere   \n",
       "31  remote work still being used leverage called p...           Chicago, IL   \n",
       "35  renee chanelle remote work still being used le...            Everywhere   \n",
       "38  remote work still being used leverage called p...       Berlin, Germany   \n",
       "45  remote work still being used leverage called p...  Brisbane, Queensland   \n",
       "\n",
       "    polarity         0         1         2         3  ...        91        92  \\\n",
       "29         0 -0.102201 -0.444967 -0.278265 -0.090209  ...  0.638703  0.074526   \n",
       "31         0 -0.149448 -0.525670 -0.280051 -0.093512  ...  0.635551  0.158300   \n",
       "35         0 -0.141815 -0.485885 -0.259081 -0.083687  ...  0.590242  0.149800   \n",
       "38         0 -0.149448 -0.525670 -0.280051 -0.093512  ...  0.635551  0.158300   \n",
       "45         0 -0.149448 -0.525670 -0.280051 -0.093512  ...  0.635551  0.158300   \n",
       "\n",
       "          93        94        95        96        97        98        99  \\\n",
       "29  0.346388  1.202808  0.241392 -0.238126 -0.357663  0.070542  1.124353   \n",
       "31  0.456837  1.484006  0.150480 -0.219410 -0.348352  0.109638  1.116263   \n",
       "35  0.425558  1.380219  0.139306 -0.204061 -0.327123  0.101292  1.036927   \n",
       "38  0.456837  1.484006  0.150480 -0.219410 -0.348352  0.109638  1.116263   \n",
       "45  0.456837  1.484006  0.150480 -0.219410 -0.348352  0.109638  1.116263   \n",
       "\n",
       "    cluster_labels  \n",
       "29               1  \n",
       "31               1  \n",
       "35               1  \n",
       "38               1  \n",
       "45               1  \n",
       "\n",
       "[5 rows x 107 columns]"
      ]
     },
     "execution_count": 190,
     "metadata": {},
     "output_type": "execute_result"
    }
   ],
   "source": [
    "full_df[full_df['cluster_labels'] == 1]"
   ]
  },
  {
   "cell_type": "code",
   "execution_count": 185,
   "id": "fb715401",
   "metadata": {},
   "outputs": [
    {
     "data": {
      "text/plain": [
       "46      growing looking bring fully member business de...\n",
       "1146    growing looking bring fully member business de...\n",
       "2371    growing looking bring fully member business de...\n",
       "2380    growing looking bring fully member business de...\n",
       "5293    growing looking bring fully member business de...\n",
       "Name: cleaned_tweets, dtype: object"
      ]
     },
     "execution_count": 185,
     "metadata": {},
     "output_type": "execute_result"
    }
   ],
   "source": [
    "full_df[full_df['cluster_labels'] == 2]['cleaned_tweets']"
   ]
  },
  {
   "cell_type": "code",
   "execution_count": 191,
   "id": "1da37d5e",
   "metadata": {},
   "outputs": [
    {
     "data": {
      "text/plain": [
       "0        rise slowly becoming normal which mean need re...\n",
       "1        opportunity join fantastic team tech fast pace...\n",
       "2        good news open this excellent report from remo...\n",
       "3                four way energize post pandemic workforce\n",
       "4        these tool that will save your google meet too...\n",
       "                               ...                        \n",
       "10213            application engineer from ecodyne limited\n",
       "10214              graduate research associate from pareto\n",
       "10215              graduate research associate from pareto\n",
       "10216      learn from home deal inch with alexa built shop\n",
       "10217    loss adjuster cert cila from exchange street f...\n",
       "Name: cleaned_tweets, Length: 8038, dtype: object"
      ]
     },
     "execution_count": 191,
     "metadata": {},
     "output_type": "execute_result"
    }
   ],
   "source": [
    "full_df[full_df['cluster_labels'] == -1]['cleaned_tweets']"
   ]
  },
  {
   "cell_type": "code",
   "execution_count": 195,
   "id": "e4e57df7",
   "metadata": {},
   "outputs": [
    {
     "data": {
      "text/plain": [
       "8075    critical ebooks that key success when working ...\n",
       "8078    critical ebooks that key success when working ...\n",
       "8389    critical ebooks that key success when working ...\n",
       "8974    critical ebooks that key success when working ...\n",
       "9809    critical ebooks that key success when working ...\n",
       "Name: cleaned_tweets, dtype: object"
      ]
     },
     "execution_count": 195,
     "metadata": {},
     "output_type": "execute_result"
    }
   ],
   "source": [
    "full_df[full_df['cluster_labels'] == 212]['cleaned_tweets']"
   ]
  },
  {
   "cell_type": "code",
   "execution_count": 201,
   "id": "896e715b",
   "metadata": {},
   "outputs": [
    {
     "data": {
      "text/html": [
       "<div>\n",
       "<style scoped>\n",
       "    .dataframe tbody tr th:only-of-type {\n",
       "        vertical-align: middle;\n",
       "    }\n",
       "\n",
       "    .dataframe tbody tr th {\n",
       "        vertical-align: top;\n",
       "    }\n",
       "\n",
       "    .dataframe thead th {\n",
       "        text-align: right;\n",
       "    }\n",
       "</style>\n",
       "<table border=\"1\" class=\"dataframe\">\n",
       "  <thead>\n",
       "    <tr style=\"text-align: right;\">\n",
       "      <th></th>\n",
       "      <th>tweet_id</th>\n",
       "      <th>tweet_posted_on</th>\n",
       "      <th>tweets</th>\n",
       "      <th>cleaned_tweets</th>\n",
       "      <th>user_location</th>\n",
       "      <th>polarity</th>\n",
       "      <th>0</th>\n",
       "      <th>1</th>\n",
       "      <th>2</th>\n",
       "      <th>3</th>\n",
       "      <th>...</th>\n",
       "      <th>91</th>\n",
       "      <th>92</th>\n",
       "      <th>93</th>\n",
       "      <th>94</th>\n",
       "      <th>95</th>\n",
       "      <th>96</th>\n",
       "      <th>97</th>\n",
       "      <th>98</th>\n",
       "      <th>99</th>\n",
       "      <th>cluster_labels</th>\n",
       "    </tr>\n",
       "  </thead>\n",
       "  <tbody>\n",
       "    <tr>\n",
       "      <th>1034</th>\n",
       "      <td>1415881887965270021</td>\n",
       "      <td>2021-07-16 03:52:02+00:00</td>\n",
       "      <td>The three trends of #RemoteWork, #automation, ...</td>\n",
       "      <td>three trend changing employee expectation crea...</td>\n",
       "      <td>Manila</td>\n",
       "      <td>1</td>\n",
       "      <td>-0.257018</td>\n",
       "      <td>-0.279674</td>\n",
       "      <td>0.607349</td>\n",
       "      <td>-0.370008</td>\n",
       "      <td>...</td>\n",
       "      <td>0.842379</td>\n",
       "      <td>-0.691165</td>\n",
       "      <td>0.58911</td>\n",
       "      <td>0.075964</td>\n",
       "      <td>0.016976</td>\n",
       "      <td>0.316756</td>\n",
       "      <td>-0.067349</td>\n",
       "      <td>-0.092482</td>\n",
       "      <td>0.80175</td>\n",
       "      <td>57</td>\n",
       "    </tr>\n",
       "    <tr>\n",
       "      <th>2175</th>\n",
       "      <td>1415539386217758723</td>\n",
       "      <td>2021-07-15 05:11:03+00:00</td>\n",
       "      <td>The three trends of #RemoteWork, #automation, ...</td>\n",
       "      <td>three trend changing employee expectation crea...</td>\n",
       "      <td>Manila</td>\n",
       "      <td>1</td>\n",
       "      <td>-0.257018</td>\n",
       "      <td>-0.279674</td>\n",
       "      <td>0.607349</td>\n",
       "      <td>-0.370008</td>\n",
       "      <td>...</td>\n",
       "      <td>0.842379</td>\n",
       "      <td>-0.691165</td>\n",
       "      <td>0.58911</td>\n",
       "      <td>0.075964</td>\n",
       "      <td>0.016976</td>\n",
       "      <td>0.316756</td>\n",
       "      <td>-0.067349</td>\n",
       "      <td>-0.092482</td>\n",
       "      <td>0.80175</td>\n",
       "      <td>57</td>\n",
       "    </tr>\n",
       "    <tr>\n",
       "      <th>3402</th>\n",
       "      <td>1415248480566538245</td>\n",
       "      <td>2021-07-14 09:55:06+00:00</td>\n",
       "      <td>The three trends of #RemoteWork, #automation, ...</td>\n",
       "      <td>three trend changing employee expectation crea...</td>\n",
       "      <td>Madrid, Spain</td>\n",
       "      <td>1</td>\n",
       "      <td>-0.257018</td>\n",
       "      <td>-0.279674</td>\n",
       "      <td>0.607349</td>\n",
       "      <td>-0.370008</td>\n",
       "      <td>...</td>\n",
       "      <td>0.842379</td>\n",
       "      <td>-0.691165</td>\n",
       "      <td>0.58911</td>\n",
       "      <td>0.075964</td>\n",
       "      <td>0.016976</td>\n",
       "      <td>0.316756</td>\n",
       "      <td>-0.067349</td>\n",
       "      <td>-0.092482</td>\n",
       "      <td>0.80175</td>\n",
       "      <td>57</td>\n",
       "    </tr>\n",
       "    <tr>\n",
       "      <th>3632</th>\n",
       "      <td>1415129003552231427</td>\n",
       "      <td>2021-07-14 02:00:20+00:00</td>\n",
       "      <td>The three trends of #RemoteWork, #automation, ...</td>\n",
       "      <td>three trend changing employee expectation crea...</td>\n",
       "      <td>Singapore</td>\n",
       "      <td>1</td>\n",
       "      <td>-0.257018</td>\n",
       "      <td>-0.279674</td>\n",
       "      <td>0.607349</td>\n",
       "      <td>-0.370008</td>\n",
       "      <td>...</td>\n",
       "      <td>0.842379</td>\n",
       "      <td>-0.691165</td>\n",
       "      <td>0.58911</td>\n",
       "      <td>0.075964</td>\n",
       "      <td>0.016976</td>\n",
       "      <td>0.316756</td>\n",
       "      <td>-0.067349</td>\n",
       "      <td>-0.092482</td>\n",
       "      <td>0.80175</td>\n",
       "      <td>57</td>\n",
       "    </tr>\n",
       "    <tr>\n",
       "      <th>4692</th>\n",
       "      <td>1414880294495154180</td>\n",
       "      <td>2021-07-13 09:32:04+00:00</td>\n",
       "      <td>The three trends of #RemoteWork, #automation, ...</td>\n",
       "      <td>three trend changing employee expectation crea...</td>\n",
       "      <td>Singapore</td>\n",
       "      <td>1</td>\n",
       "      <td>-0.257018</td>\n",
       "      <td>-0.279674</td>\n",
       "      <td>0.607349</td>\n",
       "      <td>-0.370008</td>\n",
       "      <td>...</td>\n",
       "      <td>0.842379</td>\n",
       "      <td>-0.691165</td>\n",
       "      <td>0.58911</td>\n",
       "      <td>0.075964</td>\n",
       "      <td>0.016976</td>\n",
       "      <td>0.316756</td>\n",
       "      <td>-0.067349</td>\n",
       "      <td>-0.092482</td>\n",
       "      <td>0.80175</td>\n",
       "      <td>57</td>\n",
       "    </tr>\n",
       "  </tbody>\n",
       "</table>\n",
       "<p>5 rows × 107 columns</p>\n",
       "</div>"
      ],
      "text/plain": [
       "                 tweet_id            tweet_posted_on  \\\n",
       "1034  1415881887965270021  2021-07-16 03:52:02+00:00   \n",
       "2175  1415539386217758723  2021-07-15 05:11:03+00:00   \n",
       "3402  1415248480566538245  2021-07-14 09:55:06+00:00   \n",
       "3632  1415129003552231427  2021-07-14 02:00:20+00:00   \n",
       "4692  1414880294495154180  2021-07-13 09:32:04+00:00   \n",
       "\n",
       "                                                 tweets  \\\n",
       "1034  The three trends of #RemoteWork, #automation, ...   \n",
       "2175  The three trends of #RemoteWork, #automation, ...   \n",
       "3402  The three trends of #RemoteWork, #automation, ...   \n",
       "3632  The three trends of #RemoteWork, #automation, ...   \n",
       "4692  The three trends of #RemoteWork, #automation, ...   \n",
       "\n",
       "                                         cleaned_tweets  user_location  \\\n",
       "1034  three trend changing employee expectation crea...         Manila   \n",
       "2175  three trend changing employee expectation crea...         Manila   \n",
       "3402  three trend changing employee expectation crea...  Madrid, Spain   \n",
       "3632  three trend changing employee expectation crea...      Singapore   \n",
       "4692  three trend changing employee expectation crea...      Singapore   \n",
       "\n",
       "      polarity         0         1         2         3  ...        91  \\\n",
       "1034         1 -0.257018 -0.279674  0.607349 -0.370008  ...  0.842379   \n",
       "2175         1 -0.257018 -0.279674  0.607349 -0.370008  ...  0.842379   \n",
       "3402         1 -0.257018 -0.279674  0.607349 -0.370008  ...  0.842379   \n",
       "3632         1 -0.257018 -0.279674  0.607349 -0.370008  ...  0.842379   \n",
       "4692         1 -0.257018 -0.279674  0.607349 -0.370008  ...  0.842379   \n",
       "\n",
       "            92       93        94        95        96        97        98  \\\n",
       "1034 -0.691165  0.58911  0.075964  0.016976  0.316756 -0.067349 -0.092482   \n",
       "2175 -0.691165  0.58911  0.075964  0.016976  0.316756 -0.067349 -0.092482   \n",
       "3402 -0.691165  0.58911  0.075964  0.016976  0.316756 -0.067349 -0.092482   \n",
       "3632 -0.691165  0.58911  0.075964  0.016976  0.316756 -0.067349 -0.092482   \n",
       "4692 -0.691165  0.58911  0.075964  0.016976  0.316756 -0.067349 -0.092482   \n",
       "\n",
       "           99  cluster_labels  \n",
       "1034  0.80175              57  \n",
       "2175  0.80175              57  \n",
       "3402  0.80175              57  \n",
       "3632  0.80175              57  \n",
       "4692  0.80175              57  \n",
       "\n",
       "[5 rows x 107 columns]"
      ]
     },
     "execution_count": 201,
     "metadata": {},
     "output_type": "execute_result"
    }
   ],
   "source": [
    "full_df[full_df['cluster_labels'] == 57]"
   ]
  },
  {
   "cell_type": "code",
   "execution_count": 204,
   "id": "32e59dd9",
   "metadata": {},
   "outputs": [
    {
     "data": {
      "text/plain": [
       "'RT: Jobicy: Hiring Care (@HiringCare)\\nRT: Renee Chanelle (@ReneeChane11e)\\n\\nIs Remote work still being used as leverage or called a \"perk\" in your workplace?\\n\\nYou may want to read the below #viralposts\\n\\n#remotework #recruitment #mentalhealth #selfawareness #hr #careers #jobsearchs'"
      ]
     },
     "execution_count": 204,
     "metadata": {},
     "output_type": "execute_result"
    }
   ],
   "source": [
    "full_df['tweets'].loc[29]"
   ]
  },
  {
   "cell_type": "code",
   "execution_count": 225,
   "id": "6214cac9",
   "metadata": {},
   "outputs": [],
   "source": [
    "final_df['date'] = pd.to_datetime(final_df['tweet_posted_on']).dt.date"
   ]
  },
  {
   "cell_type": "code",
   "execution_count": 234,
   "id": "6bcb97dc",
   "metadata": {},
   "outputs": [
    {
     "data": {
      "text/plain": [
       "<AxesSubplot:xlabel='date'>"
      ]
     },
     "execution_count": 234,
     "metadata": {},
     "output_type": "execute_result"
    },
    {
     "data": {
      "image/png": "[encoded data removed]",
      "text/plain": [
       "<Figure size 432x288 with 1 Axes>"
      ]
     },
     "metadata": {
      "needs_background": "light"
     },
     "output_type": "display_data"
    }
   ],
   "source": [
    "import matplotlib.pyplot as plt\n",
    "final_df.groupby(by='date')['polarity'].mean().plot(legend=True)"
   ]
  },
  {
   "cell_type": "code",
   "execution_count": null,
   "id": "f13dccee",
   "metadata": {},
   "outputs": [],
   "source": []
  }
 ],
 "metadata": {
  "kernelspec": {
   "display_name": "Python 3",
   "language": "python",
   "name": "python3"
  },
  "language_info": {
   "codemirror_mode": {
    "name": "ipython",
    "version": 3
   },
   "file_extension": ".py",
   "mimetype": "text/x-python",
   "name": "python",
   "nbconvert_exporter": "python",
   "pygments_lexer": "ipython3",
   "version": "3.8.8"
  }
 },
 "nbformat": 4,
 "nbformat_minor": 5
}
