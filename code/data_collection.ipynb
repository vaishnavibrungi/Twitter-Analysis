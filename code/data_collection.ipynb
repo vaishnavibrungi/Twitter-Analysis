{
 "cells": [
  {
   "cell_type": "code",
   "execution_count": 1,
   "id": "670fa47c",
   "metadata": {},
   "outputs": [],
   "source": [
    "#Import libraries\n",
    "import tweepy\n",
    "import pandas as pd\n",
    "import time"
   ]
  },
  {
   "cell_type": "code",
   "execution_count": 3,
   "id": "faf6cac6",
   "metadata": {},
   "outputs": [],
   "source": [
    "%run ../keys.ipynb "
   ]
  },
  {
   "cell_type": "code",
   "execution_count": 4,
   "id": "fa92f583",
   "metadata": {},
   "outputs": [],
   "source": [
    "#https://www.youtube.com/watch?v=bNDRiaFyLrs\n",
    "auth = tweepy.OAuthHandler(consumer_key,consumer_secret)\n",
    "auth.set_access_token(access_token,access_token_secret)\n",
    "api = tweepy.API(auth,timeout=600000)"
   ]
  },
  {
   "cell_type": "code",
   "execution_count": 5,
   "id": "e86d924b",
   "metadata": {},
   "outputs": [],
   "source": [
    "#https://docs.tweepy.org/en/stable/code_snippet.html#handling-the-rate-limit-using-cursors\n",
    "#https://stackoverflow.com/questions/51700960/runtimeerror-generator-raised-stopiteration-every-time-i-try-to-run-app\n",
    "def limit_handled(cursor):\n",
    "    while True:\n",
    "        try:\n",
    "            yield cursor.next()\n",
    "        except (tweepy.RateLimitError, tweepy.TweepError):\n",
    "            print(\"sleeping\")\n",
    "            time.sleep(15 * 60)    \n",
    "        except StopIteration:\n",
    "            return      "
   ]
  },
  {
   "cell_type": "code",
   "execution_count": 6,
   "id": "b1a98bd5",
   "metadata": {},
   "outputs": [],
   "source": [
    "##https://docs.tweepy.org/en/latest/api.html#search-tweets\n",
    "#Fetch the response for a given number of tweets where location is not null\n",
    "def getTweets_by_hashTag(hashtag,num_tweets): \n",
    "    max_id = None\n",
    "    tweets = []\n",
    "    user_location = []\n",
    "    created_at = []\n",
    "    tweet_id = []\n",
    "    while(len(tweets)<num_tweets): #loop iterates until tweets length < or = to num_tweets\n",
    "        for item in limit_handled(tweepy.Cursor(api.search,\n",
    "                              q = hashtag,\n",
    "                              tweet_mode=\"extended\",\n",
    "                              include_entities=False,\n",
    "                              lang=\"en\",\n",
    "                              result_type=\"recent\",             \n",
    "                             max_id=max_id).items(1000)):\n",
    "            if item._json['user']['location'].strip(\" \") != \"\" : #get post where \"location\" is not empty\n",
    "                    tweets.append(item.full_text)\n",
    "                    user_location.append(item._json['user']['location'])\n",
    "                    created_at.append(item._json['created_at'])\n",
    "                    tweet_id.append(item._json['id'])\n",
    "                    max_id = tweet_id[-1]-1 #replace tweets with last recorded time stamp\n",
    "        print(f\"Returning {len(tweets)} tweets\")\n",
    "    tweet_df = pd.DataFrame({'tweets':tweets,'user_location':user_location,'tweet_posted_on':created_at,'tweet_id':tweet_id})        \n",
    "    return tweet_df"
   ]
  },
  {
   "cell_type": "markdown",
   "id": "2136cb31",
   "metadata": {},
   "source": [
    "### #workfromhome Data Collection"
   ]
  },
  {
   "cell_type": "code",
   "execution_count": 7,
   "id": "7117e2c1",
   "metadata": {},
   "outputs": [
    {
     "name": "stdout",
     "output_type": "stream",
     "text": [
      "Returning 666 tweets\n",
      "Returning 1356 tweets\n",
      "sleeping\n",
      "Returning 2102 tweets\n",
      "Returning 2629 tweets\n",
      "Returning 3330 tweets\n",
      "sleeping\n",
      "Returning 4007 tweets\n",
      "Returning 4728 tweets\n",
      "sleeping\n",
      "Returning 5397 tweets\n"
     ]
    }
   ],
   "source": [
    "#get tweets of '#workfromhome' and save it in a dataframe\n",
    "wfh_hashtag_df = getTweets_by_hashTag(\"#workfromhome\",5000)"
   ]
  },
  {
   "cell_type": "code",
   "execution_count": 8,
   "id": "7858f90c",
   "metadata": {},
   "outputs": [
    {
     "data": {
      "text/html": [
       "<div>\n",
       "<style scoped>\n",
       "    .dataframe tbody tr th:only-of-type {\n",
       "        vertical-align: middle;\n",
       "    }\n",
       "\n",
       "    .dataframe tbody tr th {\n",
       "        vertical-align: top;\n",
       "    }\n",
       "\n",
       "    .dataframe thead th {\n",
       "        text-align: right;\n",
       "    }\n",
       "</style>\n",
       "<table border=\"1\" class=\"dataframe\">\n",
       "  <thead>\n",
       "    <tr style=\"text-align: right;\">\n",
       "      <th></th>\n",
       "      <th>tweets</th>\n",
       "      <th>user_location</th>\n",
       "      <th>tweet_posted_on</th>\n",
       "      <th>tweet_id</th>\n",
       "    </tr>\n",
       "  </thead>\n",
       "  <tbody>\n",
       "    <tr>\n",
       "      <th>0</th>\n",
       "      <td>Quickly learn how to construct a really good c...</td>\n",
       "      <td>London, England</td>\n",
       "      <td>Fri Jul 16 22:34:40 +0000 2021</td>\n",
       "      <td>1416164405633499136</td>\n",
       "    </tr>\n",
       "    <tr>\n",
       "      <th>1</th>\n",
       "      <td>Could YOU Fire Your Boss and Live the Dream? T...</td>\n",
       "      <td>Chapala, Jalisco, Mexico</td>\n",
       "      <td>Fri Jul 16 22:28:19 +0000 2021</td>\n",
       "      <td>1416162808379678722</td>\n",
       "    </tr>\n",
       "    <tr>\n",
       "      <th>2</th>\n",
       "      <td>Are you exhausting yourself trying to make a s...</td>\n",
       "      <td>Jalisco, México-retired Iowan</td>\n",
       "      <td>Fri Jul 16 22:21:11 +0000 2021</td>\n",
       "      <td>1416161014496874498</td>\n",
       "    </tr>\n",
       "    <tr>\n",
       "      <th>3</th>\n",
       "      <td>RT @T1Vcollaborate: ThinkHub’s advanced #conte...</td>\n",
       "      <td>Raleigh, NC</td>\n",
       "      <td>Fri Jul 16 22:19:56 +0000 2021</td>\n",
       "      <td>1416160698279895043</td>\n",
       "    </tr>\n",
       "    <tr>\n",
       "      <th>4</th>\n",
       "      <td>RT @Linda_U_W_A: Uniquely Your Designs: Starti...</td>\n",
       "      <td>Kingston upon Hull</td>\n",
       "      <td>Fri Jul 16 22:19:38 +0000 2021</td>\n",
       "      <td>1416160623587643399</td>\n",
       "    </tr>\n",
       "  </tbody>\n",
       "</table>\n",
       "</div>"
      ],
      "text/plain": [
       "                                              tweets  \\\n",
       "0  Quickly learn how to construct a really good c...   \n",
       "1  Could YOU Fire Your Boss and Live the Dream? T...   \n",
       "2  Are you exhausting yourself trying to make a s...   \n",
       "3  RT @T1Vcollaborate: ThinkHub’s advanced #conte...   \n",
       "4  RT @Linda_U_W_A: Uniquely Your Designs: Starti...   \n",
       "\n",
       "                   user_location                 tweet_posted_on  \\\n",
       "0                London, England  Fri Jul 16 22:34:40 +0000 2021   \n",
       "1       Chapala, Jalisco, Mexico  Fri Jul 16 22:28:19 +0000 2021   \n",
       "2  Jalisco, México-retired Iowan  Fri Jul 16 22:21:11 +0000 2021   \n",
       "3                    Raleigh, NC  Fri Jul 16 22:19:56 +0000 2021   \n",
       "4             Kingston upon Hull  Fri Jul 16 22:19:38 +0000 2021   \n",
       "\n",
       "              tweet_id  \n",
       "0  1416164405633499136  \n",
       "1  1416162808379678722  \n",
       "2  1416161014496874498  \n",
       "3  1416160698279895043  \n",
       "4  1416160623587643399  "
      ]
     },
     "execution_count": 8,
     "metadata": {},
     "output_type": "execute_result"
    }
   ],
   "source": [
    "#Display the first five rows \n",
    "wfh_hashtag_df.head()"
   ]
  },
  {
   "cell_type": "code",
   "execution_count": 9,
   "id": "aacd4330",
   "metadata": {},
   "outputs": [],
   "source": [
    "#Save in a 'dataset' folder with a name 'tweet_df.csv'\n",
    "wfh_hashtag_df.to_csv('../dataset/tweet_df.csv')"
   ]
  },
  {
   "cell_type": "markdown",
   "id": "98fb9d59",
   "metadata": {},
   "source": [
    "### #remotework Data Collection"
   ]
  },
  {
   "cell_type": "code",
   "execution_count": 10,
   "id": "5b6eb29f",
   "metadata": {
    "scrolled": true
   },
   "outputs": [
    {
     "name": "stdout",
     "output_type": "stream",
     "text": [
      "Returning 640 tweets\n",
      "Returning 1329 tweets\n",
      "sleeping\n",
      "Returning 2057 tweets\n",
      "Returning 2680 tweets\n",
      "sleeping\n",
      "Returning 3315 tweets\n",
      "Returning 4008 tweets\n",
      "Returning 4754 tweets\n",
      "sleeping\n",
      "Returning 5429 tweets\n"
     ]
    }
   ],
   "source": [
    "#get tweets of '#remotework' and save it in a dataframe\n",
    "remote_work = getTweets_by_hashTag(\"#remotework\",5000)"
   ]
  },
  {
   "cell_type": "code",
   "execution_count": 12,
   "id": "484b640e",
   "metadata": {},
   "outputs": [
    {
     "data": {
      "text/html": [
       "<div>\n",
       "<style scoped>\n",
       "    .dataframe tbody tr th:only-of-type {\n",
       "        vertical-align: middle;\n",
       "    }\n",
       "\n",
       "    .dataframe tbody tr th {\n",
       "        vertical-align: top;\n",
       "    }\n",
       "\n",
       "    .dataframe thead th {\n",
       "        text-align: right;\n",
       "    }\n",
       "</style>\n",
       "<table border=\"1\" class=\"dataframe\">\n",
       "  <thead>\n",
       "    <tr style=\"text-align: right;\">\n",
       "      <th></th>\n",
       "      <th>tweets</th>\n",
       "      <th>user_location</th>\n",
       "      <th>tweet_posted_on</th>\n",
       "      <th>tweet_id</th>\n",
       "    </tr>\n",
       "  </thead>\n",
       "  <tbody>\n",
       "    <tr>\n",
       "      <th>0</th>\n",
       "      <td>🏡 #RemoteWork is on the rise &amp;amp; slowly beco...</td>\n",
       "      <td>New York, NY</td>\n",
       "      <td>Fri Jul 16 23:43:03 +0000 2021</td>\n",
       "      <td>1416181616846811137</td>\n",
       "    </tr>\n",
       "    <tr>\n",
       "      <th>1</th>\n",
       "      <td>Opportunity to join a fantastic team at a hi-t...</td>\n",
       "      <td>London | New York</td>\n",
       "      <td>Fri Jul 16 23:42:07 +0000 2021</td>\n",
       "      <td>1416181380279635970</td>\n",
       "    </tr>\n",
       "    <tr>\n",
       "      <th>2</th>\n",
       "      <td>Good news for #JobSeekers open to #RemoteWork!...</td>\n",
       "      <td>Sydney | Hong Kong | Singapore</td>\n",
       "      <td>Fri Jul 16 23:41:30 +0000 2021</td>\n",
       "      <td>1416181225979473920</td>\n",
       "    </tr>\n",
       "    <tr>\n",
       "      <th>3</th>\n",
       "      <td>Four Ways to Energize a Post-Pandemic Workforc...</td>\n",
       "      <td>Chicago, IL</td>\n",
       "      <td>Fri Jul 16 23:39:09 +0000 2021</td>\n",
       "      <td>1416180635903868934</td>\n",
       "    </tr>\n",
       "    <tr>\n",
       "      <th>4</th>\n",
       "      <td>🚑 These are the tools that will save your #Rem...</td>\n",
       "      <td>Duluth, GA</td>\n",
       "      <td>Fri Jul 16 23:37:33 +0000 2021</td>\n",
       "      <td>1416180231350759425</td>\n",
       "    </tr>\n",
       "  </tbody>\n",
       "</table>\n",
       "</div>"
      ],
      "text/plain": [
       "                                              tweets  \\\n",
       "0  🏡 #RemoteWork is on the rise &amp; slowly beco...   \n",
       "1  Opportunity to join a fantastic team at a hi-t...   \n",
       "2  Good news for #JobSeekers open to #RemoteWork!...   \n",
       "3  Four Ways to Energize a Post-Pandemic Workforc...   \n",
       "4  🚑 These are the tools that will save your #Rem...   \n",
       "\n",
       "                    user_location                 tweet_posted_on  \\\n",
       "0                    New York, NY  Fri Jul 16 23:43:03 +0000 2021   \n",
       "1               London | New York  Fri Jul 16 23:42:07 +0000 2021   \n",
       "2  Sydney | Hong Kong | Singapore  Fri Jul 16 23:41:30 +0000 2021   \n",
       "3                     Chicago, IL  Fri Jul 16 23:39:09 +0000 2021   \n",
       "4                      Duluth, GA  Fri Jul 16 23:37:33 +0000 2021   \n",
       "\n",
       "              tweet_id  \n",
       "0  1416181616846811137  \n",
       "1  1416181380279635970  \n",
       "2  1416181225979473920  \n",
       "3  1416180635903868934  \n",
       "4  1416180231350759425  "
      ]
     },
     "execution_count": 12,
     "metadata": {},
     "output_type": "execute_result"
    }
   ],
   "source": [
    "#Display the first five rows \n",
    "remote_work.head()"
   ]
  },
  {
   "cell_type": "code",
   "execution_count": 13,
   "id": "46dfdd1e",
   "metadata": {},
   "outputs": [],
   "source": [
    "#Save in a 'dataset' folder with a name 'remote_work.csv'\n",
    "remote_work.to_csv('../dataset/remote_work.csv')"
   ]
  }
 ],
 "metadata": {
  "kernelspec": {
   "display_name": "Python 3",
   "language": "python",
   "name": "python3"
  },
  "language_info": {
   "codemirror_mode": {
    "name": "ipython",
    "version": 3
   },
   "file_extension": ".py",
   "mimetype": "text/x-python",
   "name": "python",
   "nbconvert_exporter": "python",
   "pygments_lexer": "ipython3",
   "version": "3.8.8"
  }
 },
 "nbformat": 4,
 "nbformat_minor": 5
}
