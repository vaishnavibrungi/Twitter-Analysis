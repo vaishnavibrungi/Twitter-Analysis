{
 "cells": [
  {
   "cell_type": "code",
   "execution_count": 6,
   "id": "06a234f6",
   "metadata": {},
   "outputs": [],
   "source": [
    "#Import libraries\n",
    "import tweepy\n",
    "import pandas as pd"
   ]
  },
  {
   "cell_type": "code",
   "execution_count": 10,
   "id": "351eebd9",
   "metadata": {},
   "outputs": [],
   "source": [
    "%run ./keys.ipynb "
   ]
  },
  {
   "cell_type": "code",
   "execution_count": 11,
   "id": "ad050386",
   "metadata": {},
   "outputs": [],
   "source": [
    "#https://www.youtube.com/watch?v=bNDRiaFyLrs\n",
    "auth = tweepy.OAuthHandler(consumer_key,consumer_secret)\n",
    "auth.set_access_token(access_token,access_token_secret)\n",
    "api = tweepy.API(auth, wait_on_rate_limit=True,wait_on_rate_limit_notify=True)"
   ]
  },
  {
   "cell_type": "code",
   "execution_count": 12,
   "id": "3849c609",
   "metadata": {},
   "outputs": [],
   "source": [
    "#https://docs.tweepy.org/en/latest/api.html#search-tweets\n",
    "#Fetch the response for a given number of tweets \n",
    "def getTweets_by_hashTag(no_of_tweets):\n",
    "    tweets = []\n",
    "    pages = tweepy.Cursor(api.search,\n",
    "                          q = '#workfromhome',\n",
    "                          tweet_mode=\"extended\",\n",
    "                          include_entities=False,\n",
    "                          lang=\"en\").pages()\n",
    "    for page in pages:\n",
    "        for results in page:\n",
    "            tweets.append(results.full_text)\n",
    "            if(len(tweets) >= no_of_tweets):\n",
    "                print(f\"Returning {len(tweets)} tweets\")\n",
    "                return tweets"
   ]
  },
  {
   "cell_type": "code",
   "execution_count": 13,
   "id": "1cd07ac8",
   "metadata": {},
   "outputs": [
    {
     "name": "stderr",
     "output_type": "stream",
     "text": [
      "Rate limit reached. Sleeping for: 825\n",
      "Rate limit reached. Sleeping for: 830\n"
     ]
    },
    {
     "name": "stdout",
     "output_type": "stream",
     "text": [
      "Returning 5000 tweets\n"
     ]
    }
   ],
   "source": [
    "#Get tweets related to the hashtag\n",
    "tweets = getTweets_by_hashTag(5000)"
   ]
  },
  {
   "cell_type": "code",
   "execution_count": 14,
   "id": "744623a3",
   "metadata": {},
   "outputs": [
    {
     "data": {
      "text/plain": [
       "5000"
      ]
     },
     "execution_count": 14,
     "metadata": {},
     "output_type": "execute_result"
    }
   ],
   "source": [
    "#check length of the tweets column\n",
    "len(tweets)"
   ]
  },
  {
   "cell_type": "code",
   "execution_count": 15,
   "id": "02e9cdb8",
   "metadata": {},
   "outputs": [],
   "source": [
    "#Convert to a dataframe\n",
    "tweet_df = pd.DataFrame({'tweets':tweets})"
   ]
  },
  {
   "cell_type": "code",
   "execution_count": 16,
   "id": "a34e2e7c",
   "metadata": {},
   "outputs": [
    {
     "data": {
      "text/html": [
       "<div>\n",
       "<style scoped>\n",
       "    .dataframe tbody tr th:only-of-type {\n",
       "        vertical-align: middle;\n",
       "    }\n",
       "\n",
       "    .dataframe tbody tr th {\n",
       "        vertical-align: top;\n",
       "    }\n",
       "\n",
       "    .dataframe thead th {\n",
       "        text-align: right;\n",
       "    }\n",
       "</style>\n",
       "<table border=\"1\" class=\"dataframe\">\n",
       "  <thead>\n",
       "    <tr style=\"text-align: right;\">\n",
       "      <th></th>\n",
       "      <th>tweets</th>\n",
       "    </tr>\n",
       "  </thead>\n",
       "  <tbody>\n",
       "    <tr>\n",
       "      <th>0</th>\n",
       "      <td>RT @remoteio_jobs: Quickly find great #remotej...</td>\n",
       "    </tr>\n",
       "    <tr>\n",
       "      <th>1</th>\n",
       "      <td>RT @OnlineProBret: @ https://t.co/5NozgibwPY D...</td>\n",
       "    </tr>\n",
       "    <tr>\n",
       "      <th>2</th>\n",
       "      <td>RT @SkitterComic: #Traffic is a bitch!\\n( Plea...</td>\n",
       "    </tr>\n",
       "    <tr>\n",
       "      <th>3</th>\n",
       "      <td>RT @MayhemMarriage: Don't worry about formulas...</td>\n",
       "    </tr>\n",
       "    <tr>\n",
       "      <th>4</th>\n",
       "      <td>Check this out FREE MAKE $900 DAILY https://t....</td>\n",
       "    </tr>\n",
       "    <tr>\n",
       "      <th>...</th>\n",
       "      <td>...</td>\n",
       "    </tr>\n",
       "    <tr>\n",
       "      <th>4995</th>\n",
       "      <td>12 Critical eBooks That are The Keys to Succes...</td>\n",
       "    </tr>\n",
       "    <tr>\n",
       "      <th>4996</th>\n",
       "      <td>Medical Coding Jobs from Home with Lexicode. G...</td>\n",
       "    </tr>\n",
       "    <tr>\n",
       "      <th>4997</th>\n",
       "      <td>RT @CoolMustHaves: Channel Authority Builder R...</td>\n",
       "    </tr>\n",
       "    <tr>\n",
       "      <th>4998</th>\n",
       "      <td>🔥 Want better RESULTS and EARN more Money?\\n\\n...</td>\n",
       "    </tr>\n",
       "    <tr>\n",
       "      <th>4999</th>\n",
       "      <td>you wanna know what is trendy for home work du...</td>\n",
       "    </tr>\n",
       "  </tbody>\n",
       "</table>\n",
       "<p>5000 rows × 1 columns</p>\n",
       "</div>"
      ],
      "text/plain": [
       "                                                 tweets\n",
       "0     RT @remoteio_jobs: Quickly find great #remotej...\n",
       "1     RT @OnlineProBret: @ https://t.co/5NozgibwPY D...\n",
       "2     RT @SkitterComic: #Traffic is a bitch!\\n( Plea...\n",
       "3     RT @MayhemMarriage: Don't worry about formulas...\n",
       "4     Check this out FREE MAKE $900 DAILY https://t....\n",
       "...                                                 ...\n",
       "4995  12 Critical eBooks That are The Keys to Succes...\n",
       "4996  Medical Coding Jobs from Home with Lexicode. G...\n",
       "4997  RT @CoolMustHaves: Channel Authority Builder R...\n",
       "4998  🔥 Want better RESULTS and EARN more Money?\\n\\n...\n",
       "4999  you wanna know what is trendy for home work du...\n",
       "\n",
       "[5000 rows x 1 columns]"
      ]
     },
     "execution_count": 16,
     "metadata": {},
     "output_type": "execute_result"
    }
   ],
   "source": [
    "tweet_df"
   ]
  },
  {
   "cell_type": "code",
   "execution_count": 17,
   "id": "2b9f282a",
   "metadata": {},
   "outputs": [],
   "source": [
    "#Save in a 'data' folder with a name 'tweet_df.csv'\n",
    "tweet_df.to_csv('../tweet_df.csv')"
   ]
  }
 ],
 "metadata": {
  "kernelspec": {
   "display_name": "Python 3",
   "language": "python",
   "name": "python3"
  },
  "language_info": {
   "codemirror_mode": {
    "name": "ipython",
    "version": 3
   },
   "file_extension": ".py",
   "mimetype": "text/x-python",
   "name": "python",
   "nbconvert_exporter": "python",
   "pygments_lexer": "ipython3",
   "version": "3.8.8"
  }
 },
 "nbformat": 4,
 "nbformat_minor": 5
}
