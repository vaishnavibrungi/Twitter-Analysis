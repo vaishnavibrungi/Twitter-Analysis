{
 "cells": [
  {
   "cell_type": "code",
   "execution_count": 26,
   "id": "06a234f6",
   "metadata": {},
   "outputs": [],
   "source": [
    "#Import libraries\n",
    "import tweepy\n",
    "import pandas as pd\n"
   ]
  },
  {
   "cell_type": "code",
   "execution_count": 27,
   "id": "351eebd9",
   "metadata": {},
   "outputs": [],
   "source": [
    "%run ./keys.ipynb "
   ]
  },
  {
   "cell_type": "code",
   "execution_count": 28,
   "id": "ad050386",
   "metadata": {},
   "outputs": [],
   "source": [
    "#https://www.youtube.com/watch?v=bNDRiaFyLrs\n",
    "auth = tweepy.OAuthHandler(consumer_key,consumer_secret)\n",
    "auth.set_access_token(access_token,access_token_secret)\n",
    "api = tweepy.API(auth, wait_on_rate_limit=True,wait_on_rate_limit_notify=True,timeout=600000)"
   ]
  },
  {
   "cell_type": "code",
   "execution_count": 29,
   "id": "3849c609",
   "metadata": {},
   "outputs": [],
   "source": [
    "#https://docs.tweepy.org/en/latest/api.html#search-tweets\n",
    "#Fetch the response for a given number of tweets \n",
    "def getTweets_by_hashTag(no_of_tweets):\n",
    "    tweets = []\n",
    "    user_location = []\n",
    "    pages = tweepy.Cursor(api.search,\n",
    "                          q = '#workfromhome',\n",
    "                          tweet_mode=\"extended\",\n",
    "                          include_entities=False,\n",
    "                          lang=\"en\").pages()\n",
    "    for page in pages:\n",
    "        for results in page:\n",
    "            tweets.append(results.full_text)\n",
    "            user_location.append(results._json['user']['location'])\n",
    "            if(len(tweets) >= no_of_tweets):\n",
    "                print(f\"Returning {len(tweets)} tweets\")\n",
    "                return tweets,user_location"
   ]
  },
  {
   "cell_type": "code",
   "execution_count": 30,
   "id": "1cd07ac8",
   "metadata": {},
   "outputs": [
    {
     "name": "stderr",
     "output_type": "stream",
     "text": [
      "Rate limit reached. Sleeping for: 837\n",
      "Rate limit reached. Sleeping for: 831\n"
     ]
    },
    {
     "name": "stdout",
     "output_type": "stream",
     "text": [
      "Returning 5000 tweets\n"
     ]
    }
   ],
   "source": [
    "#Get tweets related to the hashtag\n",
    "tweets,user_location = getTweets_by_hashTag(5000)"
   ]
  },
  {
   "cell_type": "code",
   "execution_count": 31,
   "id": "744623a3",
   "metadata": {},
   "outputs": [
    {
     "data": {
      "text/plain": [
       "5000"
      ]
     },
     "execution_count": 31,
     "metadata": {},
     "output_type": "execute_result"
    }
   ],
   "source": [
    "#check length of the tweets column\n",
    "len(tweets)"
   ]
  },
  {
   "cell_type": "code",
   "execution_count": 35,
   "id": "02e9cdb8",
   "metadata": {},
   "outputs": [],
   "source": [
    "#Convert to a dataframe\n",
    "tweet_df = pd.DataFrame({'tweets':tweets,'user_location':user_location})"
   ]
  },
  {
   "cell_type": "code",
   "execution_count": 36,
   "id": "a34e2e7c",
   "metadata": {},
   "outputs": [
    {
     "data": {
      "text/html": [
       "<div>\n",
       "<style scoped>\n",
       "    .dataframe tbody tr th:only-of-type {\n",
       "        vertical-align: middle;\n",
       "    }\n",
       "\n",
       "    .dataframe tbody tr th {\n",
       "        vertical-align: top;\n",
       "    }\n",
       "\n",
       "    .dataframe thead th {\n",
       "        text-align: right;\n",
       "    }\n",
       "</style>\n",
       "<table border=\"1\" class=\"dataframe\">\n",
       "  <thead>\n",
       "    <tr style=\"text-align: right;\">\n",
       "      <th></th>\n",
       "      <th>tweets</th>\n",
       "      <th>user_location</th>\n",
       "    </tr>\n",
       "  </thead>\n",
       "  <tbody>\n",
       "    <tr>\n",
       "      <th>0</th>\n",
       "      <td>After more than a year of #workfromhome life, ...</td>\n",
       "      <td>Chagrin Falls, OH 44023</td>\n",
       "    </tr>\n",
       "    <tr>\n",
       "      <th>1</th>\n",
       "      <td>Start a business without being tech-savvy\\n\\nS...</td>\n",
       "      <td>Minnesota</td>\n",
       "    </tr>\n",
       "    <tr>\n",
       "      <th>2</th>\n",
       "      <td>Easy Article Writing tips - Affiliate Working ...</td>\n",
       "      <td></td>\n",
       "    </tr>\n",
       "    <tr>\n",
       "      <th>3</th>\n",
       "      <td>When you call it a Sunday night, BUT... 😜😋😅\\n\\...</td>\n",
       "      <td>Pune</td>\n",
       "    </tr>\n",
       "    <tr>\n",
       "      <th>4</th>\n",
       "      <td>In Some Markets, Vacation Rentals Take Off Dur...</td>\n",
       "      <td></td>\n",
       "    </tr>\n",
       "    <tr>\n",
       "      <th>...</th>\n",
       "      <td>...</td>\n",
       "      <td>...</td>\n",
       "    </tr>\n",
       "    <tr>\n",
       "      <th>4995</th>\n",
       "      <td>RT @remoteio_jobs: Quickly find great #remotej...</td>\n",
       "      <td></td>\n",
       "    </tr>\n",
       "    <tr>\n",
       "      <th>4996</th>\n",
       "      <td>RT @OnlineProBret: @ https://t.co/5NozgibwPY D...</td>\n",
       "      <td>oman</td>\n",
       "    </tr>\n",
       "    <tr>\n",
       "      <th>4997</th>\n",
       "      <td>RT @SkitterComic: #Traffic is a bitch!\\n( Plea...</td>\n",
       "      <td>Donde estoy ubicado</td>\n",
       "    </tr>\n",
       "    <tr>\n",
       "      <th>4998</th>\n",
       "      <td>RT @MayhemMarriage: Don't worry about formulas...</td>\n",
       "      <td></td>\n",
       "    </tr>\n",
       "    <tr>\n",
       "      <th>4999</th>\n",
       "      <td>Check this out FREE MAKE $900 DAILY https://t....</td>\n",
       "      <td>Washington DC</td>\n",
       "    </tr>\n",
       "  </tbody>\n",
       "</table>\n",
       "<p>5000 rows × 2 columns</p>\n",
       "</div>"
      ],
      "text/plain": [
       "                                                 tweets  \\\n",
       "0     After more than a year of #workfromhome life, ...   \n",
       "1     Start a business without being tech-savvy\\n\\nS...   \n",
       "2     Easy Article Writing tips - Affiliate Working ...   \n",
       "3     When you call it a Sunday night, BUT... 😜😋😅\\n\\...   \n",
       "4     In Some Markets, Vacation Rentals Take Off Dur...   \n",
       "...                                                 ...   \n",
       "4995  RT @remoteio_jobs: Quickly find great #remotej...   \n",
       "4996  RT @OnlineProBret: @ https://t.co/5NozgibwPY D...   \n",
       "4997  RT @SkitterComic: #Traffic is a bitch!\\n( Plea...   \n",
       "4998  RT @MayhemMarriage: Don't worry about formulas...   \n",
       "4999  Check this out FREE MAKE $900 DAILY https://t....   \n",
       "\n",
       "                user_location  \n",
       "0     Chagrin Falls, OH 44023  \n",
       "1                   Minnesota  \n",
       "2                              \n",
       "3                        Pune  \n",
       "4                              \n",
       "...                       ...  \n",
       "4995                           \n",
       "4996                     oman  \n",
       "4997      Donde estoy ubicado  \n",
       "4998                           \n",
       "4999            Washington DC  \n",
       "\n",
       "[5000 rows x 2 columns]"
      ]
     },
     "execution_count": 36,
     "metadata": {},
     "output_type": "execute_result"
    }
   ],
   "source": [
    "tweet_df"
   ]
  },
  {
   "cell_type": "code",
   "execution_count": 38,
   "id": "2b9f282a",
   "metadata": {},
   "outputs": [],
   "source": [
    "#Save in a 'data' folder with a name 'tweet_df.csv'\n",
    "tweet_df.to_csv('tweet_df.csv')"
   ]
  },
  {
   "cell_type": "code",
   "execution_count": null,
   "id": "95d6906d",
   "metadata": {},
   "outputs": [],
   "source": []
  }
 ],
 "metadata": {
  "kernelspec": {
   "display_name": "Python 3",
   "language": "python",
   "name": "python3"
  },
  "language_info": {
   "codemirror_mode": {
    "name": "ipython",
    "version": 3
   },
   "file_extension": ".py",
   "mimetype": "text/x-python",
   "name": "python",
   "nbconvert_exporter": "python",
   "pygments_lexer": "ipython3",
   "version": "3.8.8"
  }
 },
 "nbformat": 4,
 "nbformat_minor": 5
}
