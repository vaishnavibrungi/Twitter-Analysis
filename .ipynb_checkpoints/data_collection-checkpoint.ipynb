{
 "cells": [
  {
   "cell_type": "code",
   "execution_count": 34,
   "id": "670fa47c",
   "metadata": {},
   "outputs": [],
   "source": [
    "#Import libraries\n",
    "import tweepy\n",
    "import pandas as pd\n",
    "import time"
   ]
  },
  {
   "cell_type": "code",
   "execution_count": 35,
   "id": "faf6cac6",
   "metadata": {},
   "outputs": [],
   "source": [
    "%run ./keys.ipynb "
   ]
  },
  {
   "cell_type": "code",
   "execution_count": 36,
   "id": "fa92f583",
   "metadata": {},
   "outputs": [],
   "source": [
    "auth = tweepy.OAuthHandler(consumer_key,consumer_secret)\n",
    "auth.set_access_token(access_token,access_token_secret)\n",
    "api = tweepy.API(auth,timeout=600000)"
   ]
  },
  {
   "cell_type": "code",
   "execution_count": 48,
   "id": "e86d924b",
   "metadata": {},
   "outputs": [],
   "source": [
    "#https://docs.tweepy.org/en/stable/code_snippet.html#handling-the-rate-limit-using-cursors\n",
    "#https://stackoverflow.com/questions/51700960/runtimeerror-generator-raised-stopiteration-every-time-i-try-to-run-app\n",
    "def limit_handled(cursor):\n",
    "    while True:\n",
    "        try:\n",
    "            yield cursor.next()\n",
    "        except (tweepy.RateLimitError, tweepy.TweepError):\n",
    "            print(\"sleeping\")\n",
    "            time.sleep(15 * 60)    \n",
    "        except StopIteration:\n",
    "            return    \n",
    "        "
   ]
  },
  {
   "cell_type": "code",
   "execution_count": 49,
   "id": "b1a98bd5",
   "metadata": {},
   "outputs": [],
   "source": [
    "def getTweets_by_hashTag(hashtag,num_tweets): \n",
    "    max_id = None\n",
    "    tweets = []\n",
    "    user_location = []\n",
    "    created_at = []\n",
    "    tweet_id = []\n",
    "    while(len(tweets)<num_tweets):\n",
    "        for item in limit_handled(tweepy.Cursor(api.search,\n",
    "                              q = hashtag,\n",
    "                              tweet_mode=\"extended\",\n",
    "                              include_entities=False,\n",
    "                              lang=\"en\",\n",
    "                              result_type=\"recent\",              \n",
    "                             max_id=max_id).items(1000)):\n",
    "            if item._json['user']['location'].strip(\" \") != \"\" : #get post where \"location\" is not empty\n",
    "                    tweets.append(item.full_text)\n",
    "                    user_location.append(item._json['user']['location'])\n",
    "                    created_at.append(item._json['created_at'])\n",
    "                    tweet_id.append(item._json['id'])\n",
    "                    max_id = tweet_id[-1]-1\n",
    "#         time.sleep(5) # pauses for a five seconds between each request\n",
    "        print(f\"Returning {len(tweets)} tweets\")\n",
    "    tweet_df = pd.DataFrame({'tweets':tweets,'user_location':user_location,'tweet_posted_on':created_at,'tweet_id':tweet_id})        \n",
    "    return tweet_df"
   ]
  },
  {
   "cell_type": "code",
   "execution_count": 50,
   "id": "7117e2c1",
   "metadata": {},
   "outputs": [
    {
     "name": "stdout",
     "output_type": "stream",
     "text": [
      "sleeping\n",
      "Returning 680 tweets\n",
      "Returning 1375 tweets\n",
      "sleeping\n",
      "Returning 2109 tweets\n",
      "Returning 2630 tweets\n",
      "Returning 3346 tweets\n",
      "sleeping\n",
      "Returning 4027 tweets\n",
      "Returning 4732 tweets\n",
      "sleeping\n",
      "Returning 5398 tweets\n"
     ]
    }
   ],
   "source": [
    "wfh_hashtag_df = getTweets_by_hashTag(\"#workfromhome\",5000)"
   ]
  },
  {
   "cell_type": "code",
   "execution_count": 51,
   "id": "7858f90c",
   "metadata": {},
   "outputs": [
    {
     "data": {
      "text/html": [
       "<div>\n",
       "<style scoped>\n",
       "    .dataframe tbody tr th:only-of-type {\n",
       "        vertical-align: middle;\n",
       "    }\n",
       "\n",
       "    .dataframe tbody tr th {\n",
       "        vertical-align: top;\n",
       "    }\n",
       "\n",
       "    .dataframe thead th {\n",
       "        text-align: right;\n",
       "    }\n",
       "</style>\n",
       "<table border=\"1\" class=\"dataframe\">\n",
       "  <thead>\n",
       "    <tr style=\"text-align: right;\">\n",
       "      <th></th>\n",
       "      <th>tweets</th>\n",
       "      <th>user_location</th>\n",
       "      <th>tweet_posted_on</th>\n",
       "      <th>tweet_id</th>\n",
       "    </tr>\n",
       "  </thead>\n",
       "  <tbody>\n",
       "    <tr>\n",
       "      <th>0</th>\n",
       "      <td>RT @kcaindec: Work from home fuelling cyber at...</td>\n",
       "      <td>India</td>\n",
       "      <td>Fri Jul 16 21:06:57 +0000 2021</td>\n",
       "      <td>1416142333201035264</td>\n",
       "    </tr>\n",
       "    <tr>\n",
       "      <th>1</th>\n",
       "      <td>RT @FarallonTech: Work from home fuelling cybe...</td>\n",
       "      <td>India</td>\n",
       "      <td>Fri Jul 16 21:06:55 +0000 2021</td>\n",
       "      <td>1416142325714194436</td>\n",
       "    </tr>\n",
       "    <tr>\n",
       "      <th>2</th>\n",
       "      <td>Remember Bob? Well, here's another Bob. \\n\\nBo...</td>\n",
       "      <td>Toronto, Ontario</td>\n",
       "      <td>Fri Jul 16 21:06:45 +0000 2021</td>\n",
       "      <td>1416142282202484744</td>\n",
       "    </tr>\n",
       "    <tr>\n",
       "      <th>3</th>\n",
       "      <td>12 Critical eBooks That are The Keys to Succes...</td>\n",
       "      <td>Worldwide</td>\n",
       "      <td>Fri Jul 16 21:05:18 +0000 2021</td>\n",
       "      <td>1416141916937326598</td>\n",
       "    </tr>\n",
       "    <tr>\n",
       "      <th>4</th>\n",
       "      <td>Check out these beautiful wooden desks - forge...</td>\n",
       "      <td>81630 Gallatin Rd Bozeman, MT</td>\n",
       "      <td>Fri Jul 16 21:03:59 +0000 2021</td>\n",
       "      <td>1416141585763475458</td>\n",
       "    </tr>\n",
       "  </tbody>\n",
       "</table>\n",
       "</div>"
      ],
      "text/plain": [
       "                                              tweets  \\\n",
       "0  RT @kcaindec: Work from home fuelling cyber at...   \n",
       "1  RT @FarallonTech: Work from home fuelling cybe...   \n",
       "2  Remember Bob? Well, here's another Bob. \\n\\nBo...   \n",
       "3  12 Critical eBooks That are The Keys to Succes...   \n",
       "4  Check out these beautiful wooden desks - forge...   \n",
       "\n",
       "                    user_location                 tweet_posted_on  \\\n",
       "0                           India  Fri Jul 16 21:06:57 +0000 2021   \n",
       "1                           India  Fri Jul 16 21:06:55 +0000 2021   \n",
       "2                Toronto, Ontario  Fri Jul 16 21:06:45 +0000 2021   \n",
       "3                       Worldwide  Fri Jul 16 21:05:18 +0000 2021   \n",
       "4  81630 Gallatin Rd Bozeman, MT   Fri Jul 16 21:03:59 +0000 2021   \n",
       "\n",
       "              tweet_id  \n",
       "0  1416142333201035264  \n",
       "1  1416142325714194436  \n",
       "2  1416142282202484744  \n",
       "3  1416141916937326598  \n",
       "4  1416141585763475458  "
      ]
     },
     "execution_count": 51,
     "metadata": {},
     "output_type": "execute_result"
    }
   ],
   "source": [
    "wfh_hashtag_df.head()"
   ]
  },
  {
   "cell_type": "code",
   "execution_count": 53,
   "id": "aacd4330",
   "metadata": {},
   "outputs": [],
   "source": [
    "#Save in a 'dataset' folder with a name 'tweet_df.csv'\n",
    "wfh_hashtag_df.to_csv('tweet_df.csv')"
   ]
  },
  {
   "cell_type": "code",
   "execution_count": null,
   "id": "5b6eb29f",
   "metadata": {},
   "outputs": [],
   "source": []
  }
 ],
 "metadata": {
  "kernelspec": {
   "display_name": "Python 3",
   "language": "python",
   "name": "python3"
  },
  "language_info": {
   "codemirror_mode": {
    "name": "ipython",
    "version": 3
   },
   "file_extension": ".py",
   "mimetype": "text/x-python",
   "name": "python",
   "nbconvert_exporter": "python",
   "pygments_lexer": "ipython3",
   "version": "3.8.8"
  }
 },
 "nbformat": 4,
 "nbformat_minor": 5
}
